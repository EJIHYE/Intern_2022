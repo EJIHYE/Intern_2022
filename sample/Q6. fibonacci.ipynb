{
 "cells": [
  {
   "cell_type": "markdown",
   "source": [
    "# 1번 문제"
   ],
   "metadata": {
    "collapsed": false,
    "pycharm": {
     "name": "#%% md\n"
    }
   }
  },
  {
   "cell_type": "markdown",
   "source": [],
   "metadata": {
    "collapsed": false,
    "pycharm": {
     "name": "#%% md\n"
    }
   }
  },
  {
   "cell_type": "markdown",
   "source": [
    "### 과제 1.\n",
    "피보나치 수열을 만들면서, 동시에 계산을 수행하세요.\n",
    "출력: 4613732"
   ],
   "metadata": {
    "collapsed": false,
    "pycharm": {
     "name": "#%% md\n"
    }
   }
  },
  {
   "cell_type": "code",
   "execution_count": 5,
   "outputs": [
    {
     "name": "stdout",
     "output_type": "stream",
     "text": [
      "[1, 2, 3, 5, 8, 13, 21, 34, 55, 89, 144, 233, 377, 610, 987, 1597, 2584, 4181, 6765, 10946, 17711, 28657, 46368, 75025, 121393, 196418, 317811, 514229, 832040, 1346269, 2178309, 3524578]\n",
      "4613732\n"
     ]
    }
   ],
   "source": [
    "Fibonacci_numbers = [1, 2]\n",
    "total = Fibonacci_numbers[-1]\n",
    "flag = True\n",
    "while flag:\n",
    "    value = Fibonacci_numbers[-2] + Fibonacci_numbers[-1]\n",
    "    if value > 4000000:\n",
    "        flag = False\n",
    "        break\n",
    "\n",
    "    if value % 2 == 0:\n",
    "        total += value\n",
    "\n",
    "    Fibonacci_numbers.append(value)\n",
    "\n",
    "print(Fibonacci_numbers)\n",
    "print(total)"
   ],
   "metadata": {
    "collapsed": false,
    "pycharm": {
     "name": "#%%\n"
    }
   }
  }
 ],
 "metadata": {
  "kernelspec": {
   "display_name": "Python 3",
   "language": "python",
   "name": "python3"
  },
  "language_info": {
   "codemirror_mode": {
    "name": "ipython",
    "version": 2
   },
   "file_extension": ".py",
   "mimetype": "text/x-python",
   "name": "python",
   "nbconvert_exporter": "python",
   "pygments_lexer": "ipython2",
   "version": "2.7.6"
  }
 },
 "nbformat": 4,
 "nbformat_minor": 0
}