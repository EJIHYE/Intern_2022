{
 "cells": [
  {
   "cell_type": "markdown",
   "id": "229ccbb0",
   "metadata": {},
   "source": [
    "# 12번\n",
    "\n",
    "### 문제\n",
    "1부터 10,000까지 8이라는 숫자가 총 몇번 나오는지 출력하시오.  \n",
    "- 8이 포함되어 있는 숫자의 갯수를 카운팅 하는 것이 아니라 8이라는 숫자를 모두 카운팅 해야 한다.  \n",
    "(※ 예를들어 8808은 3, 8888은 4로 카운팅 해야 함)  \n",
    "\n",
    "### 과제 1.\n",
    "1부터 10000까지 숫자 8이 등장하는 횟수를 구하시오.  \n",
    "출력 : 4000"
   ]
  },
  {
   "cell_type": "code",
   "execution_count": 1,
   "id": "a10acb29",
   "metadata": {},
   "outputs": [
    {
     "name": "stdout",
     "output_type": "stream",
     "text": [
      "4000\n"
     ]
    }
   ],
   "source": [
    "print(str(list(range(1, 10001))).count('8'))"
   ]
  }
 ],
 "metadata": {
  "kernelspec": {
   "display_name": "Python 3 (ipykernel)",
   "language": "python",
   "name": "python3"
  },
  "language_info": {
   "codemirror_mode": {
    "name": "ipython",
    "version": 3
   },
   "file_extension": ".py",
   "mimetype": "text/x-python",
   "name": "python",
   "nbconvert_exporter": "python",
   "pygments_lexer": "ipython3",
   "version": "3.9.12"
  }
 },
 "nbformat": 4,
 "nbformat_minor": 5
}
