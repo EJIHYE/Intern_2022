{
 "cells": [
  {
   "cell_type": "markdown",
   "id": "a830fae8",
   "metadata": {},
   "source": [
    "# 3.\n",
    "\n",
    "### 문제.\n",
    "10 ~ 1000까지 각 숫자 분해하여 곱하기의 전체 합 구하기  \n",
    "예로, 10 ~ 15까지의 각 숫자 분해하여 곱하기의 전체 합은 다음과 같다.  \n",
    "10 = 1 * 0 = 0  \n",
    "11 = 1 * 1 = 1  \n",
    "12 = 1 * 2 = 2  \n",
    "13 = 1 * 3 = 3  \n",
    "14 = 1 * 4 = 4  \n",
    "15 = 1 * 5 = 5  \n",
    "그러므로, 이 경우의 답은 0+1+2+3+4+5 = 15  \n",
    "\n",
    "### 과제 1.\n",
    "10~15까지의 숫자를 분해하여 곱하기의 전체 합을 구하시오(1).   \n",
    "출력 : 15"
   ]
  },
  {
   "cell_type": "code",
   "execution_count": 1,
   "id": "f3fe5879",
   "metadata": {},
   "outputs": [
    {
     "name": "stdout",
     "output_type": "stream",
     "text": [
      "15\n"
     ]
    }
   ],
   "source": [
    "num = []\n",
    "for i in range(10,16):\n",
    "    s = list(str(i))\n",
    "    s = '*'.join(s)     # 문자열 원소를 가진 리스트 합칠때 join 사용\n",
    "    num.append(eval(s)) # eval:expression을 문자열로 받아서 실행하는 함수\n",
    "                        # list.append:list마지막에 요소추가 \n",
    "print(sum(num))"
   ]
  },
  {
   "cell_type": "markdown",
   "id": "717ff1e5",
   "metadata": {},
   "source": [
    "### 과제 2.\n",
    "10~1000까지의 숫자를 분해하여 곱하기의 전체 합을 구하시오(2).  \n",
    "출력 : 93150"
   ]
  },
  {
   "cell_type": "code",
   "execution_count": 2,
   "id": "dd96cd10",
   "metadata": {},
   "outputs": [
    {
     "name": "stdout",
     "output_type": "stream",
     "text": [
      "93150\n"
     ]
    }
   ],
   "source": [
    "num = []\n",
    "for i in range(10,1001):\n",
    "    s = list(str(i))\n",
    "    s = '*'.join(s)     #문자열 원소를 가진 리스트 합칠때 join 사용\n",
    "    num.append(eval(s)) # eval:expression을 문자열로 받아서 실행하는 함수\n",
    "                        # list.append:list마지막에 요소추가 \n",
    "print(sum(num))"
   ]
  }
 ],
 "metadata": {
  "kernelspec": {
   "display_name": "Python 3 (ipykernel)",
   "language": "python",
   "name": "python3"
  },
  "language_info": {
   "codemirror_mode": {
    "name": "ipython",
    "version": 3
   },
   "file_extension": ".py",
   "mimetype": "text/x-python",
   "name": "python",
   "nbconvert_exporter": "python",
   "pygments_lexer": "ipython3",
   "version": "3.9.12"
  }
 },
 "nbformat": 4,
 "nbformat_minor": 5
}
