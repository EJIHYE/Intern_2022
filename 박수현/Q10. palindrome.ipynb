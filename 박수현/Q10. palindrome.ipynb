{
 "cells": [
  {
   "cell_type": "markdown",
   "metadata": {},
   "source": [
    "# 10번_Palindrome\n",
    "앞에서부터 읽을 때나 뒤에서부터 읽을 때나 모양이 같은 수를 대칭수(palindrome)라고 한다.\n",
    "- 두 자리 수를 곱해 만들 수 있는 대칭수 중 가장 큰 수는 9009 (= 91 x 99)이다.\n",
    "- 세 자리 수를 곱해 만들 수 있는 가장 큰 대칭수를 구하여라.\n",
    "\n",
    "## 과제 1. 세 자리 수를 곱해서 만들들 수 있는 가장 큰 대칭수를 구하시오.\n",
    "출력 : 906609\n",
    "\n",
    "## 과제 2. 출력 값에 천자리 구분기호가 나오도록 변환해 보세요(format()함수 사용)\n",
    "출력 : 906,609"
   ]
  },
  {
   "cell_type": "code",
   "execution_count": 1,
   "metadata": {},
   "outputs": [
    {
     "name": "stdout",
     "output_type": "stream",
     "text": [
      "과제 1 : 906609\n",
      "과제 2 : 906,609\n"
     ]
    }
   ],
   "source": [
    "# j = 두 세 자리 수를 곱해 만들 수 있는 모든 대칭수를 추가할 빈 리스트\n",
    "j = []\n",
    "\n",
    "## 두 세 자리 수를 곱해 만들 수 있는 모든 대칭수를 구하는 프로그램\n",
    "# 100부터 999까지 다음 행위를 반복\n",
    "for i in range(100, 1000):\n",
    "    # 100부터 999까지 다음 행위를 반복\n",
    "    for x in range(100, 1000):\n",
    "        # j0 = 두 개의 세 자리 수를 곱한 값\n",
    "        j0 = i * x\n",
    "        # 만약 대칭수라면 (j0을 문자로 변환 [시작:끝:증감]), 리스트에 현재 수를 추가\n",
    "        if str(j0) == str(j0)[::-1]:\n",
    "            j.append(j0)\n",
    "\n",
    "# 대칭수에 대한 리스트에서 가장 큰 수를 출력\n",
    "print('과제 1 :', max(j))\n",
    "# 천자리 구분기호를 입력하여 가장 큰 대칭수를 출력\n",
    "print('과제 2 :', format(max(j), ','))"
   ]
  }
 ],
 "metadata": {
  "kernelspec": {
   "display_name": "Python 3.9.12 ('base')",
   "language": "python",
   "name": "python3"
  },
  "language_info": {
   "codemirror_mode": {
    "name": "ipython",
    "version": 3
   },
   "file_extension": ".py",
   "mimetype": "text/x-python",
   "name": "python",
   "nbconvert_exporter": "python",
   "pygments_lexer": "ipython3",
   "version": "3.9.12"
  },
  "orig_nbformat": 4,
  "vscode": {
   "interpreter": {
    "hash": "1a6e773fc7f7b2b8b91c25b211311bf7ed1bb15ad853df008c3aead80ddb88d4"
   }
  }
 },
 "nbformat": 4,
 "nbformat_minor": 2
}
