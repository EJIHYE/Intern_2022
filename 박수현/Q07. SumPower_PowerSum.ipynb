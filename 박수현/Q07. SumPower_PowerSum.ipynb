{
 "cells": [
  {
   "cell_type": "markdown",
   "metadata": {},
   "source": [
    "# 7번_SumPower PowerSum\n",
    "1부터 10까지 자연수를 각각 제곱해 더하면 다음과 같습니다.\n",
    "- 제곱의 합 : 1^2 + 2^2 + ... + 10^2 = 385\n",
    "\n",
    "1부터 10을 먼저 더한 다음에 그 결과를 제곱하면 다음과 같습니다\n",
    "- 합의 제곱 : (1 + 2 + ... + 10)^2 = 55^2 = 3025\n",
    "\n",
    "따라서 1부터 10까지 자연수에 대해\n",
    "\"합의 제곱\"과 \"제곱의 합\" 의 차이는 3025 - 385 = 2640 이 됩니다.\n",
    "\n",
    "그러면 1부터 100까지 자연수에 대해 \"합의 제곱\"과 \"제곱의 합\"의 차이는 얼마입니까?\n",
    "\n",
    "## 과제 1. 1부터 100까지 자연수에 대해 \"합의 제곱\"과 \"제곱의 합\"의 차이를 출력하세요.\n",
    "출력 : 25164150"
   ]
  },
  {
   "cell_type": "code",
   "execution_count": 1,
   "metadata": {},
   "outputs": [
    {
     "name": "stdout",
     "output_type": "stream",
     "text": [
      "25164150\n"
     ]
    }
   ],
   "source": [
    "# g1 = 1부터 100까지 자연수를 합한 값 (시작은 0)\n",
    "# g2 = 1부터 100까지 자연수의 제곱을 합한 값 (시작은 0)\n",
    "g1, g2 = 0, 0\n",
    "\n",
    "## 1부터 100까지 자연수의 합과 제곱의 합을 구하는 프로그램\n",
    "# 1부터 100까지 다음 행위를 반복\n",
    "for i in range(1, 101):\n",
    "    # g1 = 1부터 100까지 자연수를 합한 값\n",
    "    g1 += i\n",
    "    # g2 = 1부터 100까지 자연수의 제곱을 합한 값\n",
    "    g2 += i ** 2\n",
    "\n",
    "# g1을 제곱한 후 g2를 뺀 것을 출력\n",
    "print(g1 ** 2 - g2)"
   ]
  }
 ],
 "metadata": {
  "kernelspec": {
   "display_name": "Python 3.9.12 ('base')",
   "language": "python",
   "name": "python3"
  },
  "language_info": {
   "codemirror_mode": {
    "name": "ipython",
    "version": 3
   },
   "file_extension": ".py",
   "mimetype": "text/x-python",
   "name": "python",
   "nbconvert_exporter": "python",
   "pygments_lexer": "ipython3",
   "version": "3.9.12"
  },
  "orig_nbformat": 4,
  "vscode": {
   "interpreter": {
    "hash": "1a6e773fc7f7b2b8b91c25b211311bf7ed1bb15ad853df008c3aead80ddb88d4"
   }
  }
 },
 "nbformat": 4,
 "nbformat_minor": 2
}
