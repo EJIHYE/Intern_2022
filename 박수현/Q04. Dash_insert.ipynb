{
 "cells": [
  {
   "cell_type": "markdown",
   "metadata": {},
   "source": [
    "# 4번_Dash insert (^ > *)\n",
    "DashInsert 함수는 숫자로 구성된 문자열을 입력받은 뒤,\n",
    "문자열 내에서 홀수가 연속되면 두 수 사이에 - 를 추가하고,\n",
    "짝수가 연속되면 ^ 를 추가하는 기능을 갖고 있다.\n",
    "(예, 454 => 454, 4546793 => 454^67-9-3)\n",
    "\n",
    "DashInsert 함수를 완성하자.\n",
    "- 입력 - 화면에서 숫자로 된 문자열을 입력받는다. : \"4546793\"\n",
    "- 출력 - ^, -가 적절히 추가된 문자열을 화면에 출력한다. : \"454^67-9-3\"\n",
    "\n",
    "## 과제 1. 함수를 만들지 말고, 위 문제를 풀어보세요.\n",
    "input = \"336917411\"\n",
    "\n",
    "출력 : 3-369-1-741-1\n",
    "\n",
    "## 과제 2. 함수를 만들어서 위 문제를 풀어보세요.(함수명은 \"DashInsert\"로 지정하세요)\n",
    "input = \"13221478898889212122\"\n",
    "\n",
    "출력 : 1-32^21478^898^8^8921212^2"
   ]
  },
  {
   "cell_type": "code",
   "execution_count": 5,
   "metadata": {},
   "outputs": [
    {
     "name": "stdout",
     "output_type": "stream",
     "text": [
      "---------------------------------------------\n",
      "3-369-1-741-1\n"
     ]
    }
   ],
   "source": [
    "# d0 = 최종 문자열이 될 빈 리스트\n",
    "d0 = []\n",
    "# 숫자로 구성된 문자열을 입력받을 때, 숫자 사이에 공백을 더한 후 이를 분해\n",
    "d = ' '.join(input('숫자로 구성된 문자열을 입력하세요 : ')).split()\n",
    "\n",
    "## 연속되는 홀수 혹은 짝수 사이에 적절한 문자를 추가하는 프로그램\n",
    "# 입력받은 문자열의 길이 동안 다음 행위를 반복\n",
    "for i in range(len(d) - 1):\n",
    "    # 최종 문자열이 될 리스트에 현재 숫자를 추가\n",
    "    d0.append(d[i])\n",
    "    # 만약 홀수가 연속된다면 (숫자(정수)로 변환), 최종 문자열이 될 리스트에 -를 추가\n",
    "    if int(d[i]) % 2 == 1 and int(d[i + 1]) % 2 == 1:\n",
    "        d0.append('-')\n",
    "    # 만약 짝수가 연속된다면 (숫자(정수)로 변환), 최종 문자열이 될 리스트에 *을 추가\n",
    "    elif int(d[i]) % 2 == 0 and int(d[i + 1]) % 2 == 0:\n",
    "        d0.append('*')\n",
    "# 최종 문자열이 될 리스트에 마지막 숫자를 추가\n",
    "d0.append(d[-1])\n",
    "\n",
    "# 리스트 값 사이에 공백을 포함한 모든 문자를 제외하고, 오직 값만 출력 \n",
    "print('-' * 45)\n",
    "print(''.join(d0))"
   ]
  },
  {
   "cell_type": "code",
   "execution_count": 6,
   "metadata": {},
   "outputs": [
    {
     "name": "stdout",
     "output_type": "stream",
     "text": [
      "---------------------------------------------\n",
      "1-32*21478*898*8*8921212*2\n"
     ]
    }
   ],
   "source": [
    "## DashInsert를 정의한다\n",
    "# 변수를 입력받은 d로 설정 (아래는 동일)\n",
    "def DashInsert(d):\n",
    "    d = ' '.join(d).split()\n",
    "    d0 = []\n",
    "\n",
    "    for i in range(len(d) - 1):\n",
    "        d0.append(d[i])\n",
    "        if int(d[i]) % 2 == 1 and int(d[i + 1]) % 2 == 1:\n",
    "            d0.append('-')\n",
    "        elif int(d[i]) % 2 == 0 and int(d[i + 1]) % 2 == 0:\n",
    "            d0.append('*')\n",
    "    d0.append(d[-1])\n",
    "    \n",
    "    print('-' * 45)\n",
    "    print(''.join(d0))\n",
    "\n",
    "# d = 입력받은 숫자로 구성된 문자열\n",
    "d = input('숫자로 구성된 문자열을 입력하세요 : ')\n",
    "\n",
    "# 정의했던 DashInsert 실행\n",
    "DashInsert(d)"
   ]
  }
 ],
 "metadata": {
  "kernelspec": {
   "display_name": "Python 3.9.12 ('base')",
   "language": "python",
   "name": "python3"
  },
  "language_info": {
   "codemirror_mode": {
    "name": "ipython",
    "version": 3
   },
   "file_extension": ".py",
   "mimetype": "text/x-python",
   "name": "python",
   "nbconvert_exporter": "python",
   "pygments_lexer": "ipython3",
   "version": "3.9.12"
  },
  "orig_nbformat": 4,
  "vscode": {
   "interpreter": {
    "hash": "1a6e773fc7f7b2b8b91c25b211311bf7ed1bb15ad853df008c3aead80ddb88d4"
   }
  }
 },
 "nbformat": 4,
 "nbformat_minor": 2
}
