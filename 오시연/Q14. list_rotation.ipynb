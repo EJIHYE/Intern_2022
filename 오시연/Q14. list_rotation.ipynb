{
 "cells": [
  {
   "cell_type": "markdown",
   "id": "7c1adf63",
   "metadata": {},
   "source": [
    "아래 조건에 따라 리스트를 회전하는 프로그램을 작성하시오.\n",
    "\n",
    "[조건]\n",
    "•입력값은 한 행의 문자열로 주어지며, 각 값은 공백으로 구분된다.\n",
    "•첫 번째 값은 리스트를 회전하는 양과 방향(음수의 경우 좌측으로, 양수의 경우 우측으로 회전)이다.\n",
    "•첫 번째 값을 제외한 나머지 값은 리스트의 각 항목의 값이다.\n",
    "•회전된 리스트를 문자열로 출력한다.\n",
    "•구현에 이용할 자료구조에 대한 조건이나 제약은 없다.\n",
    "•입력되는 리스트의 항목의 개수는 유한한다.\n",
    "\n",
    "[입출력 예]\n",
    "예1) 입력: 1 10 20 30 40 50       ||   출력: 50 10 20 30 40\n",
    "예2) 입력: 4 가 나 다 라 마 바 사   ||   출력: 라 마 바 사 가 나 다\n",
    "예3) 입력: -2 A B C D E F G       ||   출력: C D E F G A B\n",
    "예4) 입력: 0 똘기 떵이 호치 새초미  ||   출력: 똘기 떵이 호치 새초미"
   ]
  },
  {
   "cell_type": "markdown",
   "id": "ec77a3f6",
   "metadata": {},
   "source": [
    "과제 1. input의 첫 값이 양수(0포함, 문자열로 입력 됨)일 경우만을 가정하고 리스트를 회전하는 코드를 작성하시오. \n",
    "input = ['1', '10', '20', '30', '40', '50']\n",
    "#출력 : 50, 10, 20, 30, 40"
   ]
  },
  {
   "cell_type": "code",
   "execution_count": 3,
   "id": "fad6f9ac",
   "metadata": {},
   "outputs": [
    {
     "name": "stdout",
     "output_type": "stream",
     "text": [
      "1, 10, 20, 30, 40, 50\n",
      " 50, 10, 20, 30, 40\n"
     ]
    }
   ],
   "source": [
    "a = input().split(',')\n",
    "rotation_num = int(a[0])  #첫번째 값을 정수 형태로 변수에 저장\n",
    "origin = a[1:] #두번째 값부터 끝까지 잘라 변수에 저장\n",
    "transfer = origin[-rotation_num:]+origin[:-rotation_num] #회전하는 양을 음수 인덱스로 지정하여 뒤에서 가져온 후 남은 항목을 덧붙임   \n",
    "print(','.join(transfer))"
   ]
  },
  {
   "cell_type": "markdown",
   "id": "54223227",
   "metadata": {},
   "source": [
    "과제 2. input의 첫 값이 양수일수도 음수일 수도 있음을 고려하여 코드를 작성하시오.\n",
    "input = ['-2', 'A', 'B', 'C', 'D', 'E', 'F', 'G']\n",
    "#출력 : C, D, E, F, G, A, B"
   ]
  },
  {
   "cell_type": "code",
   "execution_count": 6,
   "id": "3099d8cf",
   "metadata": {},
   "outputs": [
    {
     "name": "stdout",
     "output_type": "stream",
     "text": [
      "-2, A, B, C, D, E, F, G\n",
      " C, D, E, F, G, A, B\n"
     ]
    }
   ],
   "source": [
    "a = input().split(',')\n",
    "rotation_num = int(a[0])  #첫번째 값을 정수 형태로 변수에 저장\n",
    "origin = a[1:] #두번째 값부터 끝까지 잘라 변수에 저장\n",
    "transfer = origin[-rotation_num:]+origin[:-rotation_num]  #슬라이스[시작:끝] 이때 끝 인덱스는 포함X\n",
    "                                                          #회전하는 양을 음수 인덱스로 지정하여 가져온 후 남은 요소를 덧붙임   \n",
    "print(','.join(transfer))                                 #음수를 입력받을 경우 양수가 되어 해당 범위를 가져옴"
   ]
  }
 ],
 "metadata": {
  "kernelspec": {
   "display_name": "Python 3 (ipykernel)",
   "language": "python",
   "name": "python3"
  },
  "language_info": {
   "codemirror_mode": {
    "name": "ipython",
    "version": 3
   },
   "file_extension": ".py",
   "mimetype": "text/x-python",
   "name": "python",
   "nbconvert_exporter": "python",
   "pygments_lexer": "ipython3",
   "version": "3.9.12"
  }
 },
 "nbformat": 4,
 "nbformat_minor": 5
}
