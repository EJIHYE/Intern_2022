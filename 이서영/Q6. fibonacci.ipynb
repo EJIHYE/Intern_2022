{
 "cells": [
  {
   "cell_type": "markdown",
   "id": "487875d1",
   "metadata": {},
   "source": [
    "# 6\n",
    "\n",
    "### 문제\n",
    "피보나치 수열의 각 항은 바로 앞의 항 두 개를 더한 것이 됩니다.  \n",
    "1과 2로 시작하는 경우 이 수열은 아래와 같습니다.  \n",
    "1, 2, 3, 5, 8, 13, 21, 34, 55, 89, ...  \n",
    "짝수이면서 4백만 이하인 모든 항을 더하면 얼마가 됩니까?  \n",
    "\n",
    "### 과제 1.\n",
    "피보나치 수열을 만들면서, 동시에 계산을 수행하세요.  \n",
    "출력 : 4613732 "
   ]
  },
  {
   "cell_type": "code",
   "execution_count": 1,
   "id": "505cc34c",
   "metadata": {},
   "outputs": [
    {
     "name": "stdout",
     "output_type": "stream",
     "text": [
      "4613732\n"
     ]
    }
   ],
   "source": [
    "a, b = [0,1]\n",
    "sum = 0\n",
    "while b <= 4000000:          #반복문(b가 4000000보다 작거나 같은 동안 반복 수행)\n",
    "    a = a + b\n",
    "    b, a = a, b\n",
    "    \n",
    "'''\n",
    "# a, b = [0,1]\n",
    "a = a+b -> a=1\n",
    "a, b = b, a -> a, b = 1,1\n",
    "b는 홀수 sum에 추가x\n",
    "\n",
    "# a, b = [1,1]\n",
    "a = a+b -> a=2\n",
    "a, b = 1,2 \n",
    "b는 짝수 sum에 추가o\n",
    "\n",
    "'''\n",
    "    if b % 2 == 0: sum += b  # 만약 b%2=0, b가 짝수일때 sum에 b합하기\n",
    "print(sum)"
   ]
  }
 ],
 "metadata": {
  "kernelspec": {
   "display_name": "Python 3 (ipykernel)",
   "language": "python",
   "name": "python3"
  },
  "language_info": {
   "codemirror_mode": {
    "name": "ipython",
    "version": 3
   },
   "file_extension": ".py",
   "mimetype": "text/x-python",
   "name": "python",
   "nbconvert_exporter": "python",
   "pygments_lexer": "ipython3",
   "version": "3.9.12"
  }
 },
 "nbformat": 4,
 "nbformat_minor": 5
}
