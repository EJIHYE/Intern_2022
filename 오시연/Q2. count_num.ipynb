{
 "cells": [
  {
   "cell_type": "markdown",
   "id": "e6f9b69b",
   "metadata": {},
   "source": [
    "# 2번"
   ]
  },
  {
   "cell_type": "markdown",
   "id": "a30774b5",
   "metadata": {},
   "source": [
    "1~1000에서 각 숫자의 개수 구하기\n",
    "\n",
    "예로 10 ~ 15 까지의 각 숫자의 개수를 구해보자\n",
    "- 10 = 1, 0\n",
    "- 11 = 1, 1\n",
    "- 12 = 1, 2\n",
    "- 13 = 1, 3\n",
    "- 14 = 1, 4\n",
    "- 15 = 1, 5\n",
    "그러므로 이 경우의 답은 0:1개, 1:7개, 2:1개, 3:1개, 4:1개, 5:1개"
   ]
  },
  {
   "cell_type": "markdown",
   "id": "d1192d07",
   "metadata": {},
   "source": [
    "### 과제 1. 10~15까지의 각 숫자 개수를 출력하세요(1). \n",
    "#### 출력 : 0 = 1개, 1 = 7개, 2 = 1개, 3 = 1개, 4 = 1개, 5 = 1개"
   ]
  },
  {
   "cell_type": "code",
   "execution_count": 7,
   "id": "3f61b45c",
   "metadata": {},
   "outputs": [
    {
     "name": "stdout",
     "output_type": "stream",
     "text": [
      "0=1개, 1=7개, 2=1개, 3=1개, 4=1개, 5=1개, "
     ]
    }
   ],
   "source": [
    "a = \"\" #변수 생성\n",
    "for i in range(10,16): #10부터 15까지의 수를 생성\n",
    "    a += (str(i))      #문자열로 바꾸어 변수 a에 차례대로 저장\n",
    "for c in range(6):     #1부터 5까지 생성하며 반복\n",
    "    c = str(c)         #count함수를 사용하기 위해 문자열로 변환\n",
    "    print(\"{}={}개\".format(c,a.count(c)),end=\", \") #c 그리고 c에 해당하는 문자 개수를 a에서 찾아 ,으로 구분하여 한 줄에 출력\n"
   ]
  },
  {
   "cell_type": "markdown",
   "id": "a2a5381d",
   "metadata": {},
   "source": [
    "### 과제 2. 10~15까지의 각 숫자 개수를 출력하세요(2).\n",
    "#### 출력 : 0 = 1개, 1 = 7개, 2 = 1개, 3 = 1개, 4 = 1개, 5 = 1개, 6 = 0개, 7 = 0개, 8 = 0개, 9 = 0개"
   ]
  },
  {
   "cell_type": "code",
   "execution_count": 2,
   "id": "bcd66f0e",
   "metadata": {},
   "outputs": [
    {
     "name": "stdout",
     "output_type": "stream",
     "text": [
      "0=1개, 1=7개, 2=1개, 3=1개, 4=1개, 5=1개, 6=0개, 7=0개, 8=0개, 9=0개, "
     ]
    }
   ],
   "source": [
    "a = \"\"\n",
    "for i in range(10,16):\n",
    "    a += (str(i))\n",
    "for c in range(10):   #1부터 9까지 반복\n",
    "    c = str(c)\n",
    "    print(\"{}={}개\".format(c,a.count(c)),end=\", \")"
   ]
  },
  {
   "cell_type": "markdown",
   "id": "fd08a7be",
   "metadata": {},
   "source": [
    "### 과제 3. 1~1000까지의 각 숫자 개수를 출력하세요\n",
    "#### 출력 : 0 = 192개, 1 = 301개, 2 = 300개, 3 = 300개, 4 = 300개, 5 = 300개, 6 = 300개, 7 = 300개, 8 = 300개, 9 = 300개"
   ]
  },
  {
   "cell_type": "code",
   "execution_count": 10,
   "id": "567cbb71",
   "metadata": {},
   "outputs": [
    {
     "name": "stdout",
     "output_type": "stream",
     "text": [
      "0=192개, 1=301개, 2=300개, 3=300개, 4=300개, 5=300개, 6=300개, 7=300개, 8=300개, 9=300개, "
     ]
    }
   ],
   "source": [
    "a = \"\"\n",
    "for i in range(1,1001):\n",
    "    a += (str(i))\n",
    "for c in range(10):\n",
    "    c = str(c)\n",
    "    print(\"{}={}개\".format(c,a.count(c)),end=\", \")"
   ]
  }
 ],
 "metadata": {
  "kernelspec": {
   "display_name": "Python 3 (ipykernel)",
   "language": "python",
   "name": "python3"
  },
  "language_info": {
   "codemirror_mode": {
    "name": "ipython",
    "version": 3
   },
   "file_extension": ".py",
   "mimetype": "text/x-python",
   "name": "python",
   "nbconvert_exporter": "python",
   "pygments_lexer": "ipython3",
   "version": "3.9.12"
  }
 },
 "nbformat": 4,
 "nbformat_minor": 5
}
