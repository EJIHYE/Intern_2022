{
 "cells": [
  {
   "cell_type": "markdown",
   "id": "154b82a3",
   "metadata": {},
   "source": [
    "# 14번\n",
    "\n",
    "### 문제\n",
    "아래 조건에 따라 리스트를 회전하는 프로그램을 작성하시오.\n",
    "\n",
    "[조건]  \n",
    "•입력값은 한 행의 문자열로 주어지며, 각 값은 공백으로 구분된다.  \n",
    "•첫 번째 값은 리스트를 회전하는 양과 방향(음수의 경우 좌측으로, 양수의 경우 우측으로 회전)이다.  \n",
    "•첫 번째 값을 제외한 나머지 값은 리스트의 각 항목의 값이다.  \n",
    "•회전된 리스트를 문자열로 출력한다.  \n",
    "•구현에 이용할 자료구조에 대한 조건이나 제약은 없다.  \n",
    "•입력되는 리스트의 항목의 개수는 유한한다.  \n",
    "\n",
    "[입출력 예]  \n",
    "예1) 입력: 1 10 20 30 40 50       ||   출력: 50 10 20 30 40  \n",
    "예2) 입력: 4 가 나 다 라 마 바 사   ||   출력: 라 마 바 사 가 나 다  \n",
    "예3) 입력: -2 A B C D E F G       ||   출력: C D E F G A B  \n",
    "예4) 입력: 0 똘기 떵이 호치 새초미  ||   출력: 똘기 떵이 호치 새초미  \n",
    "\n",
    "### 과제 1.\n",
    "input의 첫 값이 양수(0포함, 문자열로 입력 됨)일 경우만을 가정하고 리스트를 회전하는 코드를 작성하시오.   \n",
    "input = ['1', '10', '20', '30', '40', '50']  \n",
    "출력 : 50, 10, 20, 30, 40  \n"
   ]
  },
  {
   "cell_type": "code",
   "execution_count": 1,
   "id": "d58565ee",
   "metadata": {},
   "outputs": [
    {
     "name": "stdout",
     "output_type": "stream",
     "text": [
      "input : 1, 10, 20, 30, 40, 50\n",
      " 50  10  20  30  40\n"
     ]
    }
   ],
   "source": [
    "data = input('input : ').split(',')\n",
    "rn = int(data.pop(0)) % len(data)\n",
    "    # pop(x):리스트의 x번째 요소를 돌려주고 그 요소 삭제\n",
    "    \n",
    "z = [(data*2)[len(data) + i - rn] for i in range(len(data))]\n",
    "'''\n",
    "# i=0\n",
    "5+0-1 = 4\n",
    "z = [50]\n",
    "    \n",
    "# i=1\n",
    "5+1-1 =5\n",
    "z= [50,10]\n",
    "'''   \n",
    "print(' '.join(z))\n",
    "    # 1, 10, 20, 30, 40, 50을 받을 경우,\n",
    "    #   1빼고, >10 20 30 40 50 <10 20 30 40 50 \n",
    "    #   앞에서 뒤로(회전수%길이)만큼 옮김"
   ]
  },
  {
   "cell_type": "markdown",
   "id": "8b8adba3",
   "metadata": {},
   "source": [
    "### 과제 2.\n",
    "input의 첫 값이 양수일수도 음수일 수도 있음을 고려하여 코드를 작성하시오.  \n",
    "input = ['-2', 'A', 'B', 'C', 'D', 'E', 'F', 'G']  \n",
    "출력 : C, D, E, F, G, A, B  "
   ]
  },
  {
   "cell_type": "code",
   "execution_count": 2,
   "id": "cd435981",
   "metadata": {},
   "outputs": [
    {
     "name": "stdout",
     "output_type": "stream",
     "text": [
      "input : -2, A, B, C, D, E, F, G\n",
      " C  D  E  F  G  A  B\n"
     ]
    }
   ],
   "source": [
    "data = input('input : ').split(',')\n",
    "rn = int(data.pop(0)) % len(data)\n",
    "    # pop(x):리스트의 x번째 요소를 돌려주고 그 요소 삭제\n",
    "z = [(data*3)[len(data) + i - rn] for i in range(len(data))]\n",
    "print(' '.join(z))\n",
    "\n",
    "    # A, B, C, D, E, F, G을 받을 경우,\n",
    "    #   -2빼고, A B C D E F G >  A B C D E F G < A B C D E F G\n",
    "    #   가운데> <에서 앞뒤로(회전수%길이)만큼 옮김"
   ]
  }
 ],
 "metadata": {
  "kernelspec": {
   "display_name": "Python 3 (ipykernel)",
   "language": "python",
   "name": "python3"
  },
  "language_info": {
   "codemirror_mode": {
    "name": "ipython",
    "version": 3
   },
   "file_extension": ".py",
   "mimetype": "text/x-python",
   "name": "python",
   "nbconvert_exporter": "python",
   "pygments_lexer": "ipython3",
   "version": "3.9.12"
  }
 },
 "nbformat": 4,
 "nbformat_minor": 5
}
