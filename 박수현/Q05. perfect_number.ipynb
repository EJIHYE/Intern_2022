{
 "cells": [
  {
   "cell_type": "markdown",
   "metadata": {},
   "source": [
    "# 5번_Perfect number\n",
    "자기 자신을 제외한 모든 양의 약수들의 합이 자기 자신이 되는 자연수를 완전수라고 한다.\n",
    "\n",
    "예를 들면, 6과 28은 완전수이다.\n",
    "- 6=1+2+3 // 1,2,3은 각각 6의 약수\n",
    "- 28=1+2+4+7+14 // 1,2,4,7,14는 각각 28의 약수\n",
    "\n",
    "입력으로 자연수 N을 받고, 출력으로 N 이하의 모든 완전수를 출력하는 코드를 작성하라.\n",
    "\n",
    "## 과제 1\n",
    "input = \"10000\"\n",
    "\n",
    "출력: 6, 28, 496, 8128"
   ]
  },
  {
   "cell_type": "code",
   "execution_count": 1,
   "metadata": {},
   "outputs": [
    {
     "name": "stdout",
     "output_type": "stream",
     "text": [
      "6, 28, 496, 8128\n"
     ]
    }
   ],
   "source": [
    "# e0 = 모든 완전수가 될 빈 리스트\n",
    "e0 = []\n",
    "# e1 = 양의 약수들을 합한 값 (시작은 0)\n",
    "e1 = 0\n",
    "# 지정하고자 하는 숫자를 입력받을 때, 이를 숫자(정수)로 변환\n",
    "e = int(input('N으로 지정할 숫자를 입력하세요 : '))\n",
    "\n",
    "## 모든 완전수를 구하는 프로그램\n",
    "for i in range(1, e + 1):         # 구하고자 하는 범위 내에서 다음 행위를 반복\n",
    "    for j in range(1, i):         # 양의 약수를 찾는 행위를 반복\n",
    "        if i % j == 0:            # 만약 양의 약수를 찾았다면, e1 = 양의 약수를 모두 합한 값\n",
    "            e1 += j\n",
    "    if e1 == i:                   # 만약 양의 약수를 합한 값과 자기 자신의 값이 같다면, \n",
    "        e0.append(i)              # 모든 완전수가 될 빈 리스트에 자기 자신의 숫자를 추가\n",
    "    e1 = 0                        # e1는 다시 원점\n",
    "\n",
    "# N 이하의 모든 완전수를 출력 (리스트를 문자로 전환한 후 대괄호를 제외하고 출력)\n",
    "print(str(e0)[1:-1])"
   ]
  }
 ],
 "metadata": {
  "kernelspec": {
   "display_name": "Python 3.9.12 ('base')",
   "language": "python",
   "name": "python3"
  },
  "language_info": {
   "codemirror_mode": {
    "name": "ipython",
    "version": 3
   },
   "file_extension": ".py",
   "mimetype": "text/x-python",
   "name": "python",
   "nbconvert_exporter": "python",
   "pygments_lexer": "ipython3",
   "version": "3.9.12"
  },
  "orig_nbformat": 4,
  "vscode": {
   "interpreter": {
    "hash": "1a6e773fc7f7b2b8b91c25b211311bf7ed1bb15ad853df008c3aead80ddb88d4"
   }
  }
 },
 "nbformat": 4,
 "nbformat_minor": 2
}
