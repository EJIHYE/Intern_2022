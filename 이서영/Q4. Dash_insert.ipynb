{
 "cells": [
  {
   "cell_type": "markdown",
   "id": "44fe587e",
   "metadata": {},
   "source": [
    "# 4.\n",
    "\n",
    "### 문제\n",
    "DashInsert 함수는 숫자로 구성된 문자열을 입력받은 뒤,  \n",
    "문자열 내에서 홀수가 연속되면 두 수 사이에 - 를 추가하고,  \n",
    "짝수가 연속되면 * 를 추가하는 기능을 갖고 있다.  \n",
    "(예, 454 => 454, 4546793 => 454*67-9-3)  \n",
    "DashInsert 함수를 완성하자.  \n",
    "\n",
    "입력 - 화면에서 숫자로 된 문자열을 입력받는다. : \"4546793\"  \n",
    "출력 - * , -가 적절히 추가된 문자열을 화면에 출력한다. : \"454*67-9-3\" \n",
    "\n",
    "### 과제 1.\n",
    "함수를 만들지 말고, 위 문제를 풀어보세요.  \n",
    "input = \"336917411\"  \n",
    "출력 : 3-369-1-741-1  "
   ]
  },
  {
   "cell_type": "code",
   "execution_count": 1,
   "id": "92bda6e0",
   "metadata": {},
   "outputs": [
    {
     "name": "stdout",
     "output_type": "stream",
     "text": [
      "336917411\n",
      "3-369-1-741-1\n"
     ]
    }
   ],
   "source": [
    "i = list(map(int,' '.join(input()).split())) #결과값 확인을 위해 map함수를 list 자료형 형태로 변환\n",
    "\n",
    "answer = [str(i[0])]       # i[n]:i에서 n번째 위치\n",
    "for x in range(len(i)-1): # 마지막 수는 +,* 추가할 필요 없음\n",
    "    if i[x]%2==0 and i[x+1]%2==0:\n",
    "        answer.append('*') #짝수 연속할 경우 *\n",
    "        \n",
    "    if i[x]%2==1 and i[x+1]%2==1:\n",
    "        answer.append('-') #홀수 연속할 경우 -\n",
    "\n",
    "    answer.append(str(i[x+1]))\n",
    "\n",
    "print(''.join(answer))"
   ]
  },
  {
   "cell_type": "markdown",
   "id": "ac53d7de",
   "metadata": {},
   "source": [
    "### 과제 2.\n",
    "함수를 만들어서 위 문제를 풀어보세요.(함수명은 \"DashInsert\"로 지정하세요)  \n",
    "input = \"13221478898889212122\"  \n",
    "출력 :  1-32 * 21478 * 898 * 8 * 8921212 * 2  "
   ]
  },
  {
   "cell_type": "code",
   "execution_count": 2,
   "id": "a6232e18",
   "metadata": {},
   "outputs": [
    {
     "name": "stdout",
     "output_type": "stream",
     "text": [
      "13221478898889212122\n",
      "1-32*21478*898*8*8921212*2\n"
     ]
    }
   ],
   "source": [
    "def dashInsert(listInput):\n",
    "    resultStr = \"\"\n",
    "    for i in range(len(listInput)): #입력한 수 길이만큼 반복\n",
    "        if i > 0:\n",
    "            if int(listInput[i-1]) % 2 == 0 and int(listInput[i]) % 2 == 0:\n",
    "                resultStr += \"*\"    # 짝수 연속할 경우 *\n",
    "            elif int(listInput[i-1]) % 2 == 1 and int(listInput[i]) % 2 == 1:\n",
    "                resultStr += \"-\"    # 홀수 연속할 경우 -\n",
    "        resultStr += listInput[i]\n",
    "    return(resultStr)\n",
    "\n",
    "inputStr = str(input())\n",
    "print(dashInsert(inputStr))"
   ]
  }
 ],
 "metadata": {
  "kernelspec": {
   "display_name": "Python 3 (ipykernel)",
   "language": "python",
   "name": "python3"
  },
  "language_info": {
   "codemirror_mode": {
    "name": "ipython",
    "version": 3
   },
   "file_extension": ".py",
   "mimetype": "text/x-python",
   "name": "python",
   "nbconvert_exporter": "python",
   "pygments_lexer": "ipython3",
   "version": "3.9.12"
  }
 },
 "nbformat": 4,
 "nbformat_minor": 5
}
