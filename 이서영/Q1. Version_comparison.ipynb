{
 "cells": [
  {
   "cell_type": "markdown",
   "id": "55f2f666",
   "metadata": {},
   "source": [
    "# 1\n",
    "\n",
    "### 문제\n",
    "A씨는 두 개의 버전을 비교하는 프로그램을 작성해야 한다.  \n",
    "버전은 다음처럼 \".\" 으로 구분된 문자열이다.  \n",
    "두 개의 버전을 비교하는 프로그램을 작성하시오.  \n",
    "ex) - 0.0.2 > 0.0.1  \n",
    "    - 1.0.10 > 1.0.3  \n",
    "    - 1.2.0 > 1.1.99  \n",
    "    - 1.1 > 1.0.1  \n",
    "    \n",
    "### 과제 1.\n",
    "input_1 = \"1.0.2\"  \n",
    "input_2 = \"0.9.1\"  \n",
    "출력 : 1.0.2 > 0.9.1"
   ]
  },
  {
   "cell_type": "code",
   "execution_count": 2,
   "id": "3d1a32c7",
   "metadata": {},
   "outputs": [
    {
     "name": "stdout",
     "output_type": "stream",
     "text": [
      "ver1입력: 1.0.2\n",
      "ver2입력: 0.9.1\n",
      "1.0.2 > 0.9.1\n"
     ]
    }
   ],
   "source": [
    "from itertools import zip_longest # itertools:파이썬에서 반복되는 데이터를 처리하는 기능을 포함하는 라이브러리\n",
    "                                    # zip_longest:긴객체를 기준으로 순회하는 함수\n",
    "                                    # 길이가 다를 경우, fillvalue를 사용해서 나머지 채움\n",
    "\n",
    "def compare(left, right): # def compare(a,b):a,b비교\n",
    "                          # map(function, iterable):오른쪽 element를 지정된 function 타입으로 변경해서 지정해주는 역할\n",
    "                          # map(int, left.split('.')):left.split('.')를 실수타입으로 변경\n",
    "    \n",
    "    left_vars = map(int, left.split('.'))  # map:여러요소에 하나의 함수를 한꺼번에 대응, 결과값은 map의 객체로 반환\n",
    "    right_vars = map(int, right.split('.'))\n",
    "    \n",
    "    for a, b in zip_longest(left_vars, right_vars):\n",
    "    \n",
    "        if a > b:\n",
    "            return '>'\n",
    "        elif a < b:\n",
    "            return '<'\n",
    "    return '='\n",
    "\n",
    "CASES = []\n",
    "\n",
    "ver1=input('ver1입력: ')\n",
    "ver2=input('ver2입력: ')\n",
    "\n",
    "if len(ver1.split(',')) == len(ver2.split(',')) : #길이비교\n",
    "\n",
    "    if len(ver1.split(',')) == 1 : #입력된 버전이 한개인지 확인\n",
    "        CASES.append([ver1,ver2]) \n",
    "\n",
    "#출력\n",
    "if __name__ == '__main__' :# __name__:dunder name\n",
    "                            # 해당 구문이 사용된 파이썬 파일을 직접 실행했을 때만 아래코드 실행\n",
    "\n",
    "    for case in CASES:\n",
    "        print('{0[0]} {1} {0[1]}'.format(case, compare(*case)))\n",
    "                            # {}지정: format에 기술한 출력 대상들이 대응되어 출력\n",
    "                            # {n}:안에 숫자n을 넣을 경우 출력 대상의 위치 지정"
   ]
  },
  {
   "cell_type": "markdown",
   "id": "20a6a14e",
   "metadata": {},
   "source": [
    "### 과제 2.\n",
    "\n",
    "input_1 = \"1.0\"  \n",
    "input_2 = \"1.0.4\"  \n",
    "출력 : 1.0 < 1.0.4  "
   ]
  },
  {
   "cell_type": "code",
   "execution_count": 8,
   "id": "46e2c7a0",
   "metadata": {},
   "outputs": [
    {
     "name": "stdout",
     "output_type": "stream",
     "text": [
      "ver1입력: 1.0\n",
      "ver2입력: 1.0.4\n",
      "1.0 < 1.0.4\n"
     ]
    }
   ],
   "source": [
    "from itertools import zip_longest  # itertools:파이썬에서 반복되는 데이터를 처리하는 기능을 포함하는 라이브러리\n",
    "                                    # zip_longest:긴객체를 기준으로 순회하는 함수\n",
    "                                    # 길이가 다를 경우, fillvalue를 사용해서 나머지 채움\n",
    "\n",
    "def compare(left, right): \n",
    "    left_vars = map(int, left.split('.'))\n",
    "    right_vars = map(int, right.split('.'))\n",
    "    for a, b in zip_longest(left_vars, right_vars, fillvalue = 0):\n",
    "                        # zip_longest():길이가 긴 자료형 기준으로 묶고, 비어있는 부분은 0으로 채움\n",
    "        if a > b:\n",
    "            return '>'\n",
    "        elif a < b:\n",
    "            return '<'\n",
    "    return '='\n",
    "\n",
    "CASES = []\n",
    "ver1=input('ver1입력: ')\n",
    "ver2=input('ver2입력: ')\n",
    "\n",
    "if len(ver1.split(',')) == len(ver2.split(',')) :\n",
    "    if len(ver1.split(',')) == 1 :\n",
    "        CASES.append([ver1,ver2])\n",
    "\n",
    "#출력\n",
    "if __name__ == '__main__':\n",
    "    for case in CASES:\n",
    "        print('{0[0]} {1} {0[1]}'.format(case, compare(*case)))"
   ]
  },
  {
   "cell_type": "markdown",
   "id": "75d80a29",
   "metadata": {},
   "source": [
    "### 과제 3.\n",
    "input_1 = [\"0.1.0\", \"1.0.4.9\"]  \n",
    "input_2 = [\"0.0.1\", \"1.04.9\"]  \n",
    "결과 : 0.1.0 > 0.0.1, 1.0.4.9 < 1.04.9"
   ]
  },
  {
   "cell_type": "code",
   "execution_count": 9,
   "id": "3bec0a15",
   "metadata": {},
   "outputs": [
    {
     "name": "stdout",
     "output_type": "stream",
     "text": [
      "ver1입력: 0.1.0, 1.0.4.9\n",
      "ver2입력: 0.0.1, 1.04.9\n",
      "0.1.0 > 0.0.1 ,\n",
      "0.0.1 <  1.04.9\n"
     ]
    }
   ],
   "source": [
    "from itertools import zip_longest\n",
    "\n",
    "def compare(left, right): \n",
    "    left_vars = map(int, left.split('.'))\n",
    "    right_vars = map(int, right.split('.'))\n",
    "    for a, b in zip_longest(left_vars, right_vars, fillvalue = 0):\n",
    "        if a > b:\n",
    "            return '>'\n",
    "        elif a < b:\n",
    "            return '<'\n",
    "    return '='\n",
    "\n",
    "CASES = []\n",
    "CASESS = []\n",
    "\n",
    "ver1=input('ver1입력: ')\n",
    "ver2=input('ver2입력: ')\n",
    "\n",
    "if len(ver1.split(',')) == len(ver2.split(',')) : # 비교할 버전 개수가 동일한지 확인\n",
    "    if len(ver1.split(',')) == 1 : # 한개의 값을 입력한 경우\n",
    "        CASES.append([ver1,ver2])\n",
    "\n",
    "    if len(ver1.split(',')) == 2 : # 두개의 값을 입력한 경우\n",
    "        ver_1, ver_2 = ver1.split(',')\n",
    "        ver__1, ver__2 = ver2.split(',')\n",
    "        CASES.append([ver_1, ver__1]),\n",
    "        CASESS.append([ver__1, ver__2])\n",
    "    \n",
    "\n",
    "\n",
    "#출력\n",
    "if __name__ == '__main__': \n",
    "    for case in CASES:\n",
    "        print('{0[0]} {1} {0[1]} ,'.format(case, compare(*case)))\n",
    "\n",
    "if __name__ == '__main__': # 두개의 값을 입력했을 때 출력\n",
    "    for case in CASESS:\n",
    "        print('{0[0]} {1} {0[1]}'.format(case, compare(*case)))"
   ]
  }
 ],
 "metadata": {
  "kernelspec": {
   "display_name": "Python 3 (ipykernel)",
   "language": "python",
   "name": "python3"
  },
  "language_info": {
   "codemirror_mode": {
    "name": "ipython",
    "version": 3
   },
   "file_extension": ".py",
   "mimetype": "text/x-python",
   "name": "python",
   "nbconvert_exporter": "python",
   "pygments_lexer": "ipython3",
   "version": "3.9.12"
  }
 },
 "nbformat": 4,
 "nbformat_minor": 5
}
