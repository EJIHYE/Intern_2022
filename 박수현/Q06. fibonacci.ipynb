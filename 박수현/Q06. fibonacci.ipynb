{
 "cells": [
  {
   "cell_type": "markdown",
   "metadata": {},
   "source": [
    "# 6번_Fibonacci\n",
    "피보나치 수열의 각 항은 바로 앞의 항 두 개를 더한 것이 됩니다.\n",
    "1과 2로 시작하는 경우 이 수열은 아래와 같습니다.\n",
    "> 1, 2, 3, 5, 8, 13, 21, 34, 55, 89, ...\n",
    "\n",
    "짝수이면서 4백만 이하인 모든 항을 더하면 얼마가 됩니까?\n",
    "\n",
    "## 과제 1. 피보나치 수열을 만들면서, 동시에 계산을 수행하세요.\n",
    "출력 : 4613732"
   ]
  },
  {
   "cell_type": "code",
   "execution_count": 2,
   "metadata": {},
   "outputs": [
    {
     "name": "stdout",
     "output_type": "stream",
     "text": [
      "400만 이하의 피보나치 수열 : [0, 1, 1, 2, 3, 5, 8, 13, 21, 34, 55, 89, 144, 233, 377, 610, 987, 1597, 2584, 4181, 6765, 10946, 17711, 28657, 46368, 75025, 121393, 196418, 317811, 514229, 832040, 1346269, 2178309, 3524578] \n",
      "\n",
      "400만 이하면서 짝수의 합계 : 4613732\n"
     ]
    }
   ],
   "source": [
    "# f0 = 400만 이하면서 짝수인 수들을 합한 값 (시작은 0)\n",
    "f0 = 0\n",
    "# 피보나치 수열의 앞의 두 항\n",
    "f1, f2 = 0, 1\n",
    "# 피보나치 수열이 될 리스트\n",
    "f = [0, 1]\n",
    "\n",
    "## 400만 이하의 피보나치 수열을 만들면서 동시에 짝수인 수들을 합하는 프로그램\n",
    "# 다음 행위를 반복\n",
    "while True:\n",
    "    # f3 = 앞의 두 항을 합한 값\n",
    "    f3 = f1 + f2\n",
    "    # 만약 f3이 400만 초과라면, 중단\n",
    "    if f3 > 4000000:\n",
    "        break\n",
    "    # f3을 피보나치 수열이 될 리스트에 추가\n",
    "    f.append(f3)\n",
    "    # 만약 f3이 짝수라면, f0 = 피보나치 수열 중 짝수인 수를 합한 값 \n",
    "    if f3 % 2 == 0:\n",
    "        f0 += f3\n",
    "    # f1을 f2로 업데이트, f2를 f3으로 업데이트\n",
    "    f1, f2 = f2, f3\n",
    "\n",
    "# 400만 이하의 피보나치 수열과 400만 이하면서 짝수인 수의 합계를 출력\n",
    "print('400만 이하의 피보나치 수열 :', f, '\\n')\n",
    "print('400만 이하면서 짝수의 합계 :', f0)"
   ]
  }
 ],
 "metadata": {
  "kernelspec": {
   "display_name": "Python 3.9.12 ('base')",
   "language": "python",
   "name": "python3"
  },
  "language_info": {
   "codemirror_mode": {
    "name": "ipython",
    "version": 3
   },
   "file_extension": ".py",
   "mimetype": "text/x-python",
   "name": "python",
   "nbconvert_exporter": "python",
   "pygments_lexer": "ipython3",
   "version": "3.9.12"
  },
  "orig_nbformat": 4,
  "vscode": {
   "interpreter": {
    "hash": "1a6e773fc7f7b2b8b91c25b211311bf7ed1bb15ad853df008c3aead80ddb88d4"
   }
  }
 },
 "nbformat": 4,
 "nbformat_minor": 2
}
