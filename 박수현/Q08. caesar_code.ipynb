{
 "cells": [
  {
   "cell_type": "markdown",
   "metadata": {},
   "source": [
    "# 8번_Caesarcode\n",
    "시저 암호는, 고대 로마의 황제 줄리어스 시저가 만들어 낸 암호이다.\n",
    "알파벳 A를 입력했을 때, 그 알파벳의 n개 뒤에 오는 알파벳이 출력되는 것이다.\n",
    "- 예를 들어 바꾸려는 단어가 'CAT\"고, n을 5로 지정하였을 때 \"HFY\"가 된다.\n",
    "\n",
    "어떠한 암호를 만들 문장과 n을 입력했을 때 암호를 만들어 출력하는 프로그램을 작성해라.\n",
    "\n",
    "|  | 문자 | n | 출력 |\n",
    "| :----: | :----: | :----: | :----: |\n",
    "| 과제1 | ICL | 3 | LFO |\n",
    "| 과제2 | Library | 5 | Qngwfwd |\n",
    "| 과제3| My subject is Library & Information Science. | 2 | Oa uwdlgev ku Nkdtcta & Kphqtocvkqp Uekgpeg. |"
   ]
  },
  {
   "cell_type": "code",
   "execution_count": 3,
   "metadata": {},
   "outputs": [
    {
     "name": "stdout",
     "output_type": "stream",
     "text": [
      "\n",
      "LFO\n"
     ]
    }
   ],
   "source": [
    "# h = 최종 시저 암호가 될 빈 문자열\n",
    "h = ''\n",
    "# h0 = 알파벳 정렬\n",
    "h0 = 'ABCDEFGHIJKLMNOPQRSTUVWXYZ'*2\n",
    "# h1 = 시저 암호로 만들 문자\n",
    "h1 = input('시저 암호로 만들 문자를 입력하세요 : ')\n",
    "# h2 = 암호 변환을 위한 정수 (숫자(정수)로 변환)\n",
    "h2 = int(input('몇 개 뒤에 오는 알파벳으로 변환할지 입력하세요 : '))\n",
    "\n",
    "## 입력받은 문자를 시저 암호로 만드는 프로그램\n",
    "# 입력받은 문자는 다음 행위를 반복\n",
    "for i in h1:\n",
    "    # h2 뒤에 오는 알파벳을 최종 시저 암호 문자열에 추가\n",
    "    h += h0[h0.index(i) + h2]\n",
    "\n",
    "# 최종 시저 암호 문자열을 출력\n",
    "print()\n",
    "print(h)"
   ]
  },
  {
   "cell_type": "code",
   "execution_count": 4,
   "metadata": {},
   "outputs": [
    {
     "name": "stdout",
     "output_type": "stream",
     "text": [
      "\n",
      "Qngwfwd\n"
     ]
    }
   ],
   "source": [
    "# h = 최종 시저 암호가 될 빈 문자열\n",
    "h = ''\n",
    "# h0 = 알파벳 정렬\n",
    "h0 = 'AaBbCcDdEeFfGgHhIiJjKkLlMmNnOoPpQqRrSsTtUuVvWwXxYyZz'*2\n",
    "# h1 = 시저 암호로 만들 문자\n",
    "h1 = input('시저 암호로 만들 문자를 입력하세요 : ')\n",
    "# h2 = 암호 변환을 위한 정수 (숫자(정수)로 변환)\n",
    "h2 = int(input('몇 개 뒤에 오는 알파벳으로 변환할지 입력하세요 : '))\n",
    "\n",
    "## 입력받은 문자를 시저 암호로 만드는 프로그램\n",
    "# 입력받은 문자는 다음 행위를 반복\n",
    "for i in h1:\n",
    "    # h2 * 2 뒤에 오는 알파벳을 최종 시저 암호 문자열에 추가\n",
    "    h += h0[h0.index(i) + h2 * 2]\n",
    "\n",
    "# 최종 시저 암호 문자열을 출력\n",
    "print()\n",
    "print(h)"
   ]
  },
  {
   "cell_type": "code",
   "execution_count": 5,
   "metadata": {},
   "outputs": [
    {
     "name": "stdout",
     "output_type": "stream",
     "text": [
      "\n",
      "Oa uwdlgev ku Nkdtcta & Kphqtocvkqp Uekgpeg.\n"
     ]
    }
   ],
   "source": [
    "# h = 최종 시저 암호가 될 빈 문자열\n",
    "h = ''\n",
    "# h0 = 알파벳 정렬\n",
    "h0 = 'AaBbCcDdEeFfGgHhIiJjKkLlMmNnOoPpQqRrSsTtUuVvWwXxYyZz'*2\n",
    "# h1 = 시저 암호로 만들 문자\n",
    "h1 = input('시저 암호로 만들 문자를 입력하세요 : ')\n",
    "# h2 = 암호 변환을 위한 정수 (숫자(정수)로 변환)\n",
    "h2 = int(input('몇 개 뒤에 오는 알파벳으로 변환할지 입력하세요 : '))\n",
    "\n",
    "## 입력받은 문자를 시저 암호로 만드는 프로그램\n",
    "# 입력받은 문자는 다음 행위를 반복\n",
    "for i in h1:\n",
    "    # 만약 알파벳 정렬 안에 문자가 있다면, h2 * 2 뒤에 오는 알파벳을 최종 시저 암호 문자열에 추가\n",
    "    if i in h0:\n",
    "        h += h0[h0.index(i) + h2 * 2]\n",
    "    # 정렬 안에 문자가 없다면, 그대로 최종 시저 암호 문자열에 추가\n",
    "    else:\n",
    "        h += i\n",
    "\n",
    "# 최종 시저 암호 문자열을 출력\n",
    "print()\n",
    "print(h)"
   ]
  }
 ],
 "metadata": {
  "kernelspec": {
   "display_name": "Python 3.9.12 ('base')",
   "language": "python",
   "name": "python3"
  },
  "language_info": {
   "codemirror_mode": {
    "name": "ipython",
    "version": 3
   },
   "file_extension": ".py",
   "mimetype": "text/x-python",
   "name": "python",
   "nbconvert_exporter": "python",
   "pygments_lexer": "ipython3",
   "version": "3.9.12"
  },
  "orig_nbformat": 4,
  "vscode": {
   "interpreter": {
    "hash": "1a6e773fc7f7b2b8b91c25b211311bf7ed1bb15ad853df008c3aead80ddb88d4"
   }
  }
 },
 "nbformat": 4,
 "nbformat_minor": 2
}
