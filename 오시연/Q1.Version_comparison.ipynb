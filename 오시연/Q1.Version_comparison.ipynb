{
 "cells": [
  {
   "cell_type": "markdown",
   "id": "5f5bb753",
   "metadata": {},
   "source": [
    "#2주차 - 1번 문제"
   ]
  },
  {
   "cell_type": "markdown",
   "id": "4a90ad85",
   "metadata": {},
   "source": [
    "A씨는 두 개의 버전을 비교하는 프로그램을 작성해야 한다.\n",
    "버전은 다음처럼 \".\" 으로 구분된 문자열이다.\n",
    "두 개의 버전을 비교하는 프로그램을 작성하시오.\n",
    "ex) - 0.0.2 > 0.0.1\n",
    "    \n",
    "    - 1.0.10 > 1.0.3\n",
    "    \n",
    "    - 1.2.0 > 1.1.99\n",
    "    \n",
    "    - 1.1 > 1.0.1"
   ]
  },
  {
   "cell_type": "markdown",
   "id": "40cf24c6",
   "metadata": {},
   "source": [
    "## 과제 1\n",
    "### input_1 = \"1.0.2\"\n",
    "### input_2 = \"0.9.1\"\n",
    "### 출력 : 1.0.2 > 0.9.1"
   ]
  },
  {
   "cell_type": "code",
   "execution_count": 1,
   "id": "7df2d08a",
   "metadata": {},
   "outputs": [
    {
     "name": "stdout",
     "output_type": "stream",
     "text": [
      "input_1:1.0.2\n",
      "input_2:0.9.1\n",
      "1.0.2 > 0.9.1\n"
     ]
    }
   ],
   "source": [
    "v1 = input('input_1:') #입력\n",
    "v2 = input('input_2:')\n",
    "list1 = list(map(int, v1.split(\".\"))) #'.'을 기준으로 분리 후 정수로 변환하여 리스트에 저장\n",
    "list2 = list(map(int, v2.split(\".\"))) \n",
    "\n",
    "\n",
    "for i in range(len(list1)):      #list1의 요소 개수만큼 반복\n",
    "    if list1[i] > list2[i]:      #list1의 값이 더 클 경우, 결과 출력\n",
    "        print(v1, '>', v2)\n",
    "        break                    #반복문 종료\n",
    "    elif list1[i] == list2[i]:  #동일할 경우 계속 실행\n",
    "        continue\n",
    "    else:                       #앞 조건을 만족하지 않을 경우 결과 출력\n",
    "        print(v1, '<', v2)\n",
    "        break\n"
   ]
  },
  {
   "cell_type": "markdown",
   "id": "c4186e11",
   "metadata": {},
   "source": [
    "## 과제 2\n",
    "### input_1 = \"1.0\"\n",
    "### input_2 = \"1.0.4\"\n",
    "### 출력 : 1.0 < 1.0.4"
   ]
  },
  {
   "cell_type": "code",
   "execution_count": 9,
   "id": "3ec60ee9",
   "metadata": {},
   "outputs": [
    {
     "name": "stdout",
     "output_type": "stream",
     "text": [
      "input_1:1.0\n",
      "input_2:1.0.4\n",
      "1.0 < 1.0.4\n"
     ]
    }
   ],
   "source": [
    "v1 = input('input_1:') #입력\n",
    "v2 = input('input_2:')\n",
    "\n",
    "list1 = list(map(int, v1.split(\".\")))  #','을 기준으로 분리 후 정수로 변환하여 리스트에 저장 \n",
    "list2 = list(map(int, v2.split(\".\")))\n",
    "\n",
    "if list1[0] == list2[0] and list1[1] == list2[1] and len(list1) < len(list2):   #조건을 모두 만족할 경우\n",
    "    print(v1, '<', v2)       #결과 출력\n",
    "        \n"
   ]
  },
  {
   "cell_type": "markdown",
   "id": "a95f16ab",
   "metadata": {},
   "source": [
    "## 과제3\n",
    "### input_1 = [\"0.1.0\", \"1.0.4.9\"]\n",
    "### input_2 = [\"0.0.1\", \"1.04.9\"]\n",
    "### 결과 : 0.1.0 > 0.0.1, 1.0.4.9 < 1.04.9\n"
   ]
  },
  {
   "cell_type": "code",
   "execution_count": 13,
   "id": "4871d5f1",
   "metadata": {},
   "outputs": [
    {
     "name": "stdout",
     "output_type": "stream",
     "text": [
      "input_1:0.1.0, 1.0.4.9\n",
      "input_2:0.0.1, 1.04.9\n",
      "0.1.0 > 0.0.1\n",
      "1.0.4.9 < 1.04.9\n"
     ]
    }
   ],
   "source": [
    "v1, s1 = input('input_1:').split(', ')  #입력\n",
    "v2, s2= input('input_2:').split(', ')\n",
    "\n",
    "list1 = list(map(int, v1.split(\".\")))   #리스트에 저장\n",
    "list2 = list(map(int, v2.split(\".\")))\n",
    "list3 = list(map(int, s1.split(\".\")))\n",
    "list4 = list(map(int, s2.split(\".\")))\n",
    "\n",
    "for i in range((len(list1))):   #list1의 요소 개수만큼 반복\n",
    "    if list1[i] > list2[i]:     #list1의 값이 더 클 경우 결과 출력\n",
    "        print(v1, '>', v2)\n",
    "        break                   #반복문 종료\n",
    "    elif list1[i] == list2[i]:  #동일할 경우 계속 실행\n",
    "        continue\n",
    "    else:                       #앞 조건을 만족하지 않을 경우 결과 출력\n",
    "        print(v1, '<', v2)\n",
    "        break                  #반복문 종료\n",
    "        \n",
    "for i in range((len(list3))):  #list3의 요소 개수만큼 반복\n",
    "    if list3[i] > list4[i]:    #list3의 값이 더 클 경우 결과 출력\n",
    "        print(s1, '>', s2)\n",
    "        break                  #반복문 종료\n",
    "    elif list3[i] == list4[i]: \n",
    "        continue\n",
    "    else:                      #앞 조건을 만족하지 않을 경우 결과 출력\n",
    "        print(s1, '<', s2)     \n",
    "        break\n"
   ]
  }
 ],
 "metadata": {
  "kernelspec": {
   "display_name": "Python 3 (ipykernel)",
   "language": "python",
   "name": "python3"
  },
  "language_info": {
   "codemirror_mode": {
    "name": "ipython",
    "version": 3
   },
   "file_extension": ".py",
   "mimetype": "text/x-python",
   "name": "python",
   "nbconvert_exporter": "python",
   "pygments_lexer": "ipython3",
   "version": "3.9.12"
  }
 },
 "nbformat": 4,
 "nbformat_minor": 5
}
