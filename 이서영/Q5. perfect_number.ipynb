{
 "cells": [
  {
   "cell_type": "markdown",
   "id": "494ec7b9",
   "metadata": {},
   "source": [
    "# 5.\n",
    "\n",
    "### 문제\n",
    "\n",
    "자기 자신을 제외한 모든 양의 약수들의 합이 자기 자신이 되는 자연수를 완전수라고 한다.  \n",
    "예를 들면, 6과 28은 완전수이다.  \n",
    "6=1+2+3 // 1,2,3은 각각 6의 약수 28=1+2+4+7+14 // 1,2,4,7,14는 각각 28의 약수 입력으로 자연수 N을 받고, 출력으로 N 이하의 모든 완전수를 출력하는 코드를 작성하라.  \n",
    "\n",
    "### 과제 1.\n",
    "input = \"10000\"\n",
    "출력: 6, 28, 496, 8128"
   ]
  },
  {
   "cell_type": "code",
   "execution_count": 1,
   "id": "68e580d3",
   "metadata": {},
   "outputs": [
    {
     "name": "stdout",
     "output_type": "stream",
     "text": [
      "자연수 입력: 10000\n",
      "6,28,496,8128\n"
     ]
    }
   ],
   "source": [
    "def num_n(x) : # 함수 생성\n",
    "    num = []\n",
    "    for i in range(1, x) :\n",
    "        if x % i == 0 : #자연수를 i로 나누었을 때, 나머지가 0이면 리스트 추가\n",
    "            num.append(i)\n",
    "    return num\n",
    "\n",
    "N = int(input(\"자연수 입력: \"))\n",
    "\n",
    "out = []\n",
    "\n",
    "for i in range(1, N+1) :\n",
    "    if sum(num_n(i)) == i :\n",
    "        out.append(str(i))\n",
    "        \n",
    "print(','.join(out))\n"
   ]
  }
 ],
 "metadata": {
  "kernelspec": {
   "display_name": "Python 3 (ipykernel)",
   "language": "python",
   "name": "python3"
  },
  "language_info": {
   "codemirror_mode": {
    "name": "ipython",
    "version": 3
   },
   "file_extension": ".py",
   "mimetype": "text/x-python",
   "name": "python",
   "nbconvert_exporter": "python",
   "pygments_lexer": "ipython3",
   "version": "3.9.12"
  }
 },
 "nbformat": 4,
 "nbformat_minor": 5
}
