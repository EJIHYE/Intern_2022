{
 "cells": [
  {
   "cell_type": "markdown",
   "id": "e22868bf",
   "metadata": {},
   "source": [
    "# 9번\n",
    "\n",
    "### 문제\n",
    "어떤 자연수 n이 있을 때, d(n)을 n의 각 자릿수 숫자들과 n 자신을 더한 숫자라고 정의하자.   \n",
    "n을 d(n)의 제네레이터(generator)라고 한다.  \n",
    "예를 들어 d(91) = 9 + 1 + 91 = 101인 경우 91은 101의 제네레이터이다.  \n",
    "어떤 숫자들은 하나 이상의 제네레이터를 가지고 있는데, 101의 제네레이터는 91 뿐 아니라 100도 있다.  \n",
    "그런데 반대로, 제네레이터가 없는 숫자들도 있으며, 이런 숫자를 인도의 수학자 Kaprekar가 셀프 넘버(self-number)라 이름 붙였다.  \n",
    "\n",
    "예를 들어 1,3,5,7,9,20,31 은 셀프 넘버 들이다.  \n",
    "\n",
    "1 이상이고 5000 보다 작은 모든 셀프 넘버들의 합을 구하라.  \n",
    "\n",
    "### 과제 1.\n",
    "1부터 30까지의 자연수 중에서, 제너레이터가 있는 수의 합을 구하시오.  \n",
    "출력 : 359"
   ]
  },
  {
   "cell_type": "code",
   "execution_count": 1,
   "id": "0d433ae6",
   "metadata": {},
   "outputs": [
    {
     "name": "stdout",
     "output_type": "stream",
     "text": [
      "420\n"
     ]
    }
   ],
   "source": [
    "def d(n):\n",
    "    for i in str(n): #n을 문자열로 변경\n",
    "        n+= int(i)   # n을 정수로 변경\n",
    "    return n\n",
    "\n",
    "a= set(list(range(1,30))) # 임의로 n설정\n",
    "b= set()                  # 제너레이터에 대한 집합\n",
    "\n",
    "for i in a:\n",
    "    if d(i)<= 30 : # 30이하로 범위 설정\n",
    "        b.add(d(i)) \n",
    "\n",
    "print(sum(b))"
   ]
  },
  {
   "cell_type": "markdown",
   "id": "cce05bdc",
   "metadata": {},
   "source": [
    "### 과제 2.\n",
    "1이상 5000 미만의 셀프 넘버(제너레이터가 하나도 없는 수)의 합을 구하시오.  \n",
    "출력 : 1227365"
   ]
  },
  {
   "cell_type": "code",
   "execution_count": 1,
   "id": "da1ba219",
   "metadata": {},
   "outputs": [
    {
     "name": "stdout",
     "output_type": "stream",
     "text": [
      "1227365\n"
     ]
    }
   ],
   "source": [
    "def d(n):\n",
    "    for i in str(n): \n",
    "        n+= int(i)\n",
    "    return n\n",
    "\n",
    "a= set(list(range(1,5000)))\n",
    "b= set() #제너레이터에 대한 집합\n",
    "\n",
    "for i in a:\n",
    "    b.add(d(i))\n",
    "\n",
    "print(sum(a-b))"
   ]
  }
 ],
 "metadata": {
  "kernelspec": {
   "display_name": "Python 3 (ipykernel)",
   "language": "python",
   "name": "python3"
  },
  "language_info": {
   "codemirror_mode": {
    "name": "ipython",
    "version": 3
   },
   "file_extension": ".py",
   "mimetype": "text/x-python",
   "name": "python",
   "nbconvert_exporter": "python",
   "pygments_lexer": "ipython3",
   "version": "3.9.12"
  }
 },
 "nbformat": 4,
 "nbformat_minor": 5
}
