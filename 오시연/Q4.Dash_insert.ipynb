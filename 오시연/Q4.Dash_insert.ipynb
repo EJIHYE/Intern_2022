{
 "cells": [
  {
   "cell_type": "markdown",
   "id": "a18788b7",
   "metadata": {},
   "source": [
    "# Q4"
   ]
  },
  {
   "cell_type": "markdown",
   "id": "099158b4",
   "metadata": {},
   "source": [
    "DashInsert 함수는 숫자로 구성된 문자열을 입력받은 뒤,\n",
    "문자열 내에서 홀수가 연속되면 두 수 사이에 - 를 추가하고,\n",
    "짝수가 연속되면 * 를 추가하는 기능을 갖고 있다.\n",
    "(예, 454 => 454, 4546793 => 454*67-9-3)\n",
    "DashInsert 함수를 완성하자.\n",
    "\n",
    "입력 - 화면에서 숫자로 된 문자열을 입력받는다. : \"4546793\"\n",
    "출력 - *, -가 적절히 추가된 문자열을 화면에 출력한다. : \"454*67-9-3\"\n",
    "\n",
    "## 과제 1. 함수를 만들지 말고, 위 문제를 풀어보세요.\n",
    "### input = \"336917411\"\n",
    "### 출력 : 3-369-1-741-1"
   ]
  },
  {
   "cell_type": "code",
   "execution_count": 4,
   "id": "50ab44a9",
   "metadata": {},
   "outputs": [
    {
     "name": "stdout",
     "output_type": "stream",
     "text": [
      "숫자를 입력하세요:336917411\n",
      "3-369-1-741-\n"
     ]
    }
   ],
   "source": [
    "a = input(\"숫자를 입력하세요:\")   #숫자로 된 문자열 입력\n",
    "result = \"\"                            \n",
    "\n",
    "for i in range(len(a)-1):       #마지막 수를 제외한 문자열 길이만큼 반복문 수행\n",
    "    if (int(a[i]) % 2 == 0) and (int(a[i+1]) % 2 == 0):    #문자열에 인덱스로 접근,정수로 변환,짝수인지 확인,다음 수도 짝수라면\n",
    "        result += a[i] + \"*\"                                #결과에 해당 숫자와 * 추가\n",
    "    elif (int(a[i]) % 2 == 1) and (int(a[i+1]) % 2 == 1):  #만약 홀수이고 다음 수도 홀수라면\n",
    "        result += a[i] + \"-\"                                #결과에 해당 숫자와 - 추가\n",
    "    else:                                                   #짝수 또는 홀수가 연속되지 않는다면\n",
    "        result += a[i]                                      #숫자만을 추가\n",
    "                                                            \n",
    "    if i == (len(a)-2):                                     #마지막 수는 연속되는 수가 없으므로\n",
    "        result += a[i+1]                                    #숫자만을 추가\n",
    "\n",
    "print(result)"
   ]
  },
  {
   "cell_type": "markdown",
   "id": "38e775a2",
   "metadata": {},
   "source": [
    "#과제 2. 함수를 만들어서 위 문제를 풀어보세요.(함수명은 \"DashInsert\"로 지정하세요)\n",
    "### input = \"13221478898889212122\"\n",
    "### 출력 :  1-32*21478*898*8*8921212*2"
   ]
  },
  {
   "cell_type": "code",
   "execution_count": 1,
   "id": "aa38cdcf",
   "metadata": {},
   "outputs": [
    {
     "name": "stdout",
     "output_type": "stream",
     "text": [
      "숫자를 입력하세요:1322147889888921222\n",
      "1-32*21478*898*8*89212*2*2\n"
     ]
    }
   ],
   "source": [
    "def DashInsert():                    #DashInsert라는 함수 정의\n",
    "    a = input(\"숫자를 입력하세요:\")  \n",
    "    b = \"\"\n",
    "\n",
    "    for i in range(len(a)-1):\n",
    "        if (int(a[i]) % 2 == 0) and (int(a[i+1]) % 2 == 0):\n",
    "            b = b + a[i] + \"*\"\n",
    "        elif (int(a[i]) % 2 == 1) and (int(a[i+1]) % 2 == 1):\n",
    "            b = b + a[i] + \"-\"\n",
    "        else:\n",
    "            b = b + a[i]\n",
    "        \n",
    "        if i == (len(a)-2):\n",
    "            b = b + a[i+1]\n",
    "\n",
    "    print(b)\n",
    "DashInsert()   #함수 호출"
   ]
  }
 ],
 "metadata": {
  "kernelspec": {
   "display_name": "Python 3 (ipykernel)",
   "language": "python",
   "name": "python3"
  },
  "language_info": {
   "codemirror_mode": {
    "name": "ipython",
    "version": 3
   },
   "file_extension": ".py",
   "mimetype": "text/x-python",
   "name": "python",
   "nbconvert_exporter": "python",
   "pygments_lexer": "ipython3",
   "version": "3.9.12"
  }
 },
 "nbformat": 4,
 "nbformat_minor": 5
}
