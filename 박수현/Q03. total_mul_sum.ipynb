{
 "cells": [
  {
   "cell_type": "markdown",
   "metadata": {},
   "source": [
    "# 3번_10~1000에서 각 숫자 분해하여 곱하기의 전체 합 구하기\n",
    "예로 10~15까지의 각 숫자 분해하여 곱하기의 전체 합은 다음과 같다.\n",
    "- 10 = 1 * 0 = 0\n",
    "- 11 = 1 * 1 = 1\n",
    "- 12 = 1 * 2 = 2\n",
    "- 13 = 1 * 3 = 3\n",
    "- 14 = 1 * 4 = 4\n",
    "- 15 = 1 * 5 = 5\n",
    "\n",
    "그러므로 이 경우의 답은 0+1+2+3+4+5 = 15\n",
    "\n",
    "## 과제 1. 10~15까지의 숫자를 분해하여 곱하기의 전체 합을 구하시오. \n",
    "출력 : 15\n",
    "\n",
    "## 과제 2. 10~1000까지의 숫자를 분해하여 곱하기의 전체 합을 구하시오.\n",
    "출력 : 93150"
   ]
  },
  {
   "cell_type": "code",
   "execution_count": 1,
   "metadata": {},
   "outputs": [
    {
     "name": "stdout",
     "output_type": "stream",
     "text": [
      "---------------------------------------------\n",
      "15\n"
     ]
    }
   ],
   "source": [
    "# c = 숫자를 분해하여 곱한 값 (시작은 1)\n",
    "c = 1\n",
    "# c0 = c를 모두 합한 값 (시작은 0)\n",
    "c0 = 0\n",
    "# 구하고자 하는 범위를 입력받을 때, 이를 숫자(정수)로 변환\n",
    "c1 = int(input('구하고자 하는 범위의 시작을 입력하세요 : '))\n",
    "c2 = int(input('구하고자 하는 범위의 끝을 입력하세요 : '))\n",
    "\n",
    "## 각 숫자를 분해하여 곱한 값들의 총합을 구하는 프로그램\n",
    "# 구하고자 하는 범위 내에서 다음 행위를 반복\n",
    "for i in range(c1, c2 + 1):\n",
    "    # 숫자를 분해, 예를 들어 908이라면 9, 0, 8 (j, i 모두 문자로 분해) \n",
    "    for j in str(i):\n",
    "        # c = 분해한 값들을 곱한 값 (j를 숫자(정수)로 변환)\n",
    "        c *= int(j)\n",
    "    # c0 = 곱한 값을 더한 값\n",
    "    c0 += c\n",
    "    # c는 다시 원점\n",
    "    c = 1\n",
    "\n",
    "# 범위 내의 숫자를 분해하여 곱한 값들의 총합을 출력\n",
    "print('-' * 45)\n",
    "print(c0)"
   ]
  },
  {
   "cell_type": "code",
   "execution_count": 2,
   "metadata": {},
   "outputs": [
    {
     "name": "stdout",
     "output_type": "stream",
     "text": [
      "---------------------------------------------\n",
      "93150\n"
     ]
    }
   ],
   "source": [
    "# c = 숫자를 분해하여 곱한 값 (시작은 1)\n",
    "c = 1\n",
    "# c0 = c를 모두 합한 값 (시작은 0)\n",
    "c0 = 0\n",
    "# 구하고자 하는 범위를 입력받을 때, 이를 숫자(정수)로 변환\n",
    "c1 = int(input('구하고자 하는 범위의 시작을 입력하세요 : '))\n",
    "c2 = int(input('구하고자 하는 범위의 끝을 입력하세요 : '))\n",
    "\n",
    "## 각 숫자를 분해하여 곱한 값들의 총합을 구하는 프로그램\n",
    "# 구하고자 하는 범위 내에서 다음 행위를 반복\n",
    "for i in range(c1, c2 + 1):\n",
    "    # 숫자를 분해, 예를 들어 908이라면 9, 0, 8 (j, i 모두 문자로 분해) \n",
    "    for j in str(i):\n",
    "        # c = 분해한 값들을 곱한 값 (j를 숫자(정수)로 변환)\n",
    "        c *= int(j)\n",
    "    # c0 = 곱한 값을 더한 값\n",
    "    c0 += c\n",
    "    # c는 다시 원점\n",
    "    c = 1\n",
    "\n",
    "# 범위 내의 숫자를 분해하여 곱한 값들의 총합을 출력\n",
    "print('-' * 45)\n",
    "print(c0)"
   ]
  }
 ],
 "metadata": {
  "kernelspec": {
   "display_name": "Python 3.9.12 ('base')",
   "language": "python",
   "name": "python3"
  },
  "language_info": {
   "codemirror_mode": {
    "name": "ipython",
    "version": 3
   },
   "file_extension": ".py",
   "mimetype": "text/x-python",
   "name": "python",
   "nbconvert_exporter": "python",
   "pygments_lexer": "ipython3",
   "version": "3.9.12"
  },
  "orig_nbformat": 4,
  "vscode": {
   "interpreter": {
    "hash": "1a6e773fc7f7b2b8b91c25b211311bf7ed1bb15ad853df008c3aead80ddb88d4"
   }
  }
 },
 "nbformat": 4,
 "nbformat_minor": 2
}
