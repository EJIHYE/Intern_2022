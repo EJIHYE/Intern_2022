{
 "cells": [
  {
   "cell_type": "markdown",
   "id": "ded53cef",
   "metadata": {},
   "source": [
    "# 13번\n",
    "\n",
    "### 문제\n",
    "- 첫 번째 계산\n",
    "  아이들은 여러 자리 숫자들을 더하기 위해서\n",
    "  우에서 좌로 숫자를 하나씩 차례대로 더 하라고 배웠다.\n",
    "  1을 한 숫자 위치에서 다음 자리로 더하기위해 이동하는 \"한자리올림\"연산을\n",
    "  많이 발견하는 것은 중요한 도전이 된다.\n",
    "  당신의 일은 교육자가 그들의 어려움을 평가하기 위하여,\n",
    "  덧셈 문제들의 각 집합에 대해서 한자리올림 연산들의 수를 계산하는 것이다.\n",
    "\n",
    "- 입력\n",
    "  입력의 각 라인은 10개의 숫자들보다 미만인 양의 정수들 두 개를 포함한다.\n",
    "  입력의 마지막 라인은 0 0 을 포한한다.\n",
    "\n",
    "- 출력\n",
    "  마지막을 제외한 입력의 각 라인에 대해서 당신은 두 숫자들을 더한 결과에서\n",
    "  한자리올림 연산들의 수를 아래 처럼 보여지는 형식으로 계산하여 출력해야 한다.\n",
    "\n",
    "[입력 샘플]  \n",
    "123 456  \n",
    "555 555  \n",
    "123 594  \n",
    "0 0  \n",
    "\n",
    "[출력 샘플]  \n",
    "No carry operation  \n",
    "3 carry operation  \n",
    "1 carry operation  \n",
    "\n",
    "### 과제 1.\n",
    "입력 값의 자릿수가 같을 때 한자리 올림 계산 횟수를 출력하시오.  \n",
    "  \n",
    "Input :  \n",
    "123 456  \n",
    "555 555  \n",
    "123 594  \n",
    "0 0  \n",
    "  \n",
    "출력 :     \n",
    "No carry operation  \n",
    "3 carry operation  \n",
    "1 carry operation   \n",
    "  \n",
    "-조건 1> 입력이 총 4번 완료된 후에 계산이 수행되도록 하세요.  \n",
    "-조건 2> 입력값은 '123 456'의 형태로 받습니다.  "
   ]
  },
  {
   "cell_type": "code",
   "execution_count": 2,
   "id": "2546391e",
   "metadata": {},
   "outputs": [
    {
     "name": "stdout",
     "output_type": "stream",
     "text": [
      "input: 123 456\n",
      "input: 555 555\n",
      "input: 123 594\n",
      "input: 0 0\n",
      "No carry operation.\n",
      "3 carry operation.\n",
      "1 carry operation.\n"
     ]
    }
   ],
   "source": [
    "list = []\n",
    "\n",
    "while True :\n",
    "    input = input()\n",
    "    if (input == '0 0') :                    # 0,0 넣을 경우 종료\n",
    "        break\n",
    "    input_N = tuple(map(int, input.split())) #두수를 공백기준으로 나눠 튜플로 저장\n",
    "    list.append(input_N)\n",
    "\n",
    "\n",
    "def Primary_A(n1, n2):\n",
    "    carry = 0\n",
    "    a = 0 # 올림 횟수 발생시, 변수\n",
    "    q1 = n1\n",
    "    q2 = n2\n",
    "    while(q1 != 0 and q2 != 0):             #두수가 0이 될 경우 종료\n",
    "        if (((q1 % 10) + ((q2 %10) + a)) >= 10):\n",
    "            a = 1                             #올림이 발생한 경우, 다음 반복문에서 1 더함\n",
    "            carry = carry + 1                 # 올림횟수 카운트\n",
    "        else :\n",
    "            a = 0\n",
    "        q1 = int(q1 // 10)     #각 자리수의 올림을 계산하기 위해 10으로 나눈 후 그 몫을 넣고 반복\n",
    "        q2 = int(q2 // 10)\n",
    "    return carry\n",
    "\n",
    "for x in list:\n",
    "    n1 = x[0]   # 튜블의 첫번째 요소 대입\n",
    "    n2 = x[1]   # 튜플의 두번째 요소 대입\n",
    "    carry = Primary_A(n1, n2)\n",
    "    if (carry == 0) :\n",
    "        print(\"N0 carry operation\")\n",
    "    else :\n",
    "        print(str(carry) + \"carry operation\")"
   ]
  },
  {
   "cell_type": "markdown",
   "id": "e6415c60",
   "metadata": {},
   "source": [
    "### 과제 2.\n",
    "입력 값의 자릿수가 다를 때의 한자리 올림 계산 횟수를 출력하시오.  \n",
    "  \n",
    "Input :  \n",
    "13 452  \n",
    "55 555  \n",
    "1009 99  \n",
    "0 0  \n",
    "  \n",
    "출력 :  \n",
    "No carry operation  \n",
    "2 carry operation  \n",
    "1 carry operation  \n",
    "  \n",
    "-조건 1> 입력이 총 4번 완료된 후에 계산이 수행되도록 하세요.  \n",
    "-조건 2> 입력값은 '13 452'의 형태로 받습니다.  "
   ]
  },
  {
   "cell_type": "code",
   "execution_count": 1,
   "id": "1da672b1",
   "metadata": {},
   "outputs": [
    {
     "name": "stdout",
     "output_type": "stream",
     "text": [
      "13 452\n",
      "55 555\n",
      "1009 99\n",
      "0 0\n"
     ]
    },
    {
     "ename": "KeyboardInterrupt",
     "evalue": "",
     "output_type": "error",
     "traceback": [
      "\u001b[1;31m---------------------------------------------------------------------------\u001b[0m",
      "\u001b[1;31mKeyboardInterrupt\u001b[0m                         Traceback (most recent call last)",
      "Input \u001b[1;32mIn [1]\u001b[0m, in \u001b[0;36m<cell line: 26>\u001b[1;34m()\u001b[0m\n\u001b[0;32m     27\u001b[0m number_1 \u001b[38;5;241m=\u001b[39m x[\u001b[38;5;241m0\u001b[39m]\n\u001b[0;32m     28\u001b[0m number_2 \u001b[38;5;241m=\u001b[39m x[\u001b[38;5;241m1\u001b[39m]\n\u001b[1;32m---> 29\u001b[0m carry_n \u001b[38;5;241m=\u001b[39m \u001b[43mPrimary_A\u001b[49m\u001b[43m(\u001b[49m\u001b[43mnumber_1\u001b[49m\u001b[43m,\u001b[49m\u001b[43m \u001b[49m\u001b[43mnumber_2\u001b[49m\u001b[43m)\u001b[49m\n\u001b[0;32m     30\u001b[0m \u001b[38;5;28;01mif\u001b[39;00m (carry_n \u001b[38;5;241m==\u001b[39m \u001b[38;5;241m0\u001b[39m) :\n\u001b[0;32m     31\u001b[0m     \u001b[38;5;28mprint\u001b[39m(\u001b[38;5;124m\"\u001b[39m\u001b[38;5;124mN0 carry operation\u001b[39m\u001b[38;5;124m\"\u001b[39m)\n",
      "Input \u001b[1;32mIn [1]\u001b[0m, in \u001b[0;36mPrimary_A\u001b[1;34m(number_1, number_2)\u001b[0m\n\u001b[0;32m     21\u001b[0m         a \u001b[38;5;241m=\u001b[39m \u001b[38;5;241m0\u001b[39m\n\u001b[0;32m     22\u001b[0m     q1 \u001b[38;5;241m=\u001b[39m \u001b[38;5;28mint\u001b[39m(q1 \u001b[38;5;241m/\u001b[39m\u001b[38;5;241m/\u001b[39m \u001b[38;5;241m10\u001b[39m)\n\u001b[1;32m---> 23\u001b[0m     q1 \u001b[38;5;241m=\u001b[39m \u001b[38;5;28mint\u001b[39m(q2 \u001b[38;5;241m/\u001b[39m\u001b[38;5;241m/\u001b[39m \u001b[38;5;241m10\u001b[39m)\n\u001b[0;32m     24\u001b[0m \u001b[38;5;28;01mreturn\u001b[39;00m carry_n\n",
      "\u001b[1;31mKeyboardInterrupt\u001b[0m: "
     ]
    }
   ],
   "source": [
    "list = []\n",
    "\n",
    "while True :\n",
    "    input = input()\n",
    "    if (input == '0 0') : # 0,0 넣을 경우 종료\n",
    "        break\n",
    "    input_N = tuple(map(int, input.split())) #두수를 공백기준으로 나눠 튜플로 저장\n",
    "    list.append(input_N)\n",
    "\n",
    "\n",
    "def Primary_A(n1, n2):\n",
    "    carry = 0\n",
    "    a = 0 # 올림 횟수 발생시, 변수\n",
    "    q1 = n1\n",
    "    q2 = n2\n",
    "    while(q1 != 0 and q2 != 0): # 두수가 0이 될 경우 종료\n",
    "        if (((q1 % 10) + ((q2 %10) + a)) >= 10):\n",
    "            a = 1#올림이 발생한 경우, 다음 반복문에서 1 더함\n",
    "            carry = carry + 1 # 올림횟수 카운트\n",
    "        else :\n",
    "            a = 0\n",
    "        q1 = int(q1 // 10) #각 자리수의 올림을 계산하기 위해 10으로 나눈 후 그 몫을 넣고 반복\n",
    "        q2 = int(q2 // 10)\n",
    "    return carry\n",
    "\n",
    "for x in list:\n",
    "    n1 = x[0] # 튜블의 첫번째 요소 대입\n",
    "    n2 = x[1] # 튜플의 두번째 요소 대입\n",
    "    carry = Primary_A(n1, n2)\n",
    "    if (carry == 0) :\n",
    "        print(\"N0 carry operation\")\n",
    "    else :\n",
    "        print(str(carry) + \"carry operation\")"
   ]
  }
 ],
 "metadata": {
  "kernelspec": {
   "display_name": "Python 3 (ipykernel)",
   "language": "python",
   "name": "python3"
  },
  "language_info": {
   "codemirror_mode": {
    "name": "ipython",
    "version": 3
   },
   "file_extension": ".py",
   "mimetype": "text/x-python",
   "name": "python",
   "nbconvert_exporter": "python",
   "pygments_lexer": "ipython3",
   "version": "3.9.12"
  }
 },
 "nbformat": 4,
 "nbformat_minor": 5
}
