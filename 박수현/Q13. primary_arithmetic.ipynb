{
 "cells": [
  {
   "cell_type": "markdown",
   "metadata": {},
   "source": [
    "# 13번 Primary arithmetic\n",
    "첫 번째 계산\n",
    "- 아이들은 여러 자리 숫자들을 더하기 위해서 우에서 좌로 숫자를 하나씩 차례대로 더 하라고 배웠다.\n",
    "- 1을 한 숫자 위치에서 다음 자리로 더하기위해 이동하는 \"한자리올림\"연산을 많이 발견하는 것은 중요한 도전이 된다.\n",
    "- 당신의 일은 교육자가 그들의 어려움을 평가하기 위하여, 덧셈 문제들의 각 집합에 대해서 한자리올림 연산들의 수를 계산하는 것이다.\n",
    "\n",
    "입력\n",
    "- 입력의 각 라인은 10개의 숫자들보다 미만인 양의 정수들 두 개를 포함한다.\n",
    "- 입력의 마지막 라인은 0 0 을 포한한다.\n",
    "\n",
    "출력\n",
    "- 마지막을 제외한 입력의 각 라인에 대해서 당신은 두 숫자들을 더한 결과에서 한자리올림 연산들의 수를 아래처럼 보여지는 형식으로 계산하여 출력해야 한다.\n",
    "\n",
    "[입력 샘플]\n",
    "- 123 456\n",
    "- 555 555\n",
    "- 123 594\n",
    "- 0 0\n",
    "\n",
    "[출력 샘플]\n",
    "- No carry operation\n",
    "- 3 carry operation\n",
    "- 1 carry operation\n",
    "\n",
    "## 과제 1. 입력 값의 자릿수가 같을 때 한자리 올림 계산 횟수를 출력하시오.\n",
    "Input : 123 456 // 555 555 // 123 594 // 0 0\n",
    "\n",
    "출력 : No carry operation // 3 carry operation // 1 carry operation\n",
    "- 조건 1> 입력이 총 4번 완료된 후에 계산이 수행되도록 하세요.\n",
    "- 조건 2> 입력값은 '123 456'의 형태로 받습니다.\n",
    "\n",
    "## 과제 2. 입력 값의 자릿수가 다를 때의 한자리 올림 계산 횟수를 출력하시오.\n",
    "Input : 13 452 // 55 555 // 1009 99 // 0 0\n",
    "\n",
    "출력 : No carry operation // 2 carry operation // 2 carry operation\n",
    "- 조건 1> 입력이 총 4번 완료된 후에 계산이 수행되도록 하세요.\n",
    "- 조건 2> 입력값은 '13 452'의 형태로 받습니다."
   ]
  },
  {
   "cell_type": "code",
   "execution_count": 1,
   "metadata": {},
   "outputs": [
    {
     "name": "stdout",
     "output_type": "stream",
     "text": [
      "No carry operation\n",
      "3 carry operation\n",
      "1 carry operation\n"
     ]
    }
   ],
   "source": [
    "# 숫자를 입력받을 빈 리스트\n",
    "m0 = []\n",
    "\n",
    "## 숫자를 입력받는 프로그램\n",
    "while True:                                       # 다음 행위를 무한 반복\n",
    "  m = input('양의 정수 두 개를 입력하세요 : ')     # m = 입력받은 양의 정수 두 개\n",
    "  if m == '0 0':                                  # 만약 '0 0'을 입력한다면, 루프 중단\n",
    "    break\n",
    "  m0.append(m)                                    # 숫자 리스트에 입력받은 양의 정수 추가\n",
    "\n",
    "## 한 자리 올림을 계산하는 프로그램\n",
    "for i in m0:                                      # 숫자 리스트를 입력받은 상태 그대로 분해\n",
    "  m1, m2 = i.split(' ')                           # 공백을 기준으로 양의 정수를 분해\n",
    "  m3 = max(len(m1), len(m2))                      # m3 = m1, m2 길이의 최댓값\n",
    "  cr = 0                                          # cr = 한 자리 올림 (시작은 0)\n",
    "\n",
    "  for j in range(1, m3 + 1):                      # 한 자리씩 다음 행위를 반복\n",
    "    if int(m1[-j]) + int(m2[-j]) > 9:             # 만약 해당하는 자리가 한 자리 올림에 해당한다면, + 1\n",
    "      cr += 1\n",
    "      if j < m3 and 10 > int(m1[-j-1]) + int(m2[-j-1]) > 8:\n",
    "          cr += 1                                 # 그리고 그로 인해 앞 자리도 한 자리 올림이 된다면, + 1\n",
    "\n",
    "  ## 한 자리 올림의 결과를 출력하는 프로그램    \n",
    "  if cr == 0:\n",
    "    print('No carry operation')\n",
    "  else:\n",
    "    print(cr, 'carry operation')"
   ]
  },
  {
   "cell_type": "code",
   "execution_count": 2,
   "metadata": {},
   "outputs": [
    {
     "name": "stdout",
     "output_type": "stream",
     "text": [
      "No carry operation\n",
      "2 carry operation\n",
      "2 carry operation\n"
     ]
    }
   ],
   "source": [
    "# 숫자를 입력받을 빈 리스트\n",
    "m0 = []\n",
    "\n",
    "## 숫자를 입력받는 프로그램\n",
    "while True:                                       # 다음 행위를 무한 반복\n",
    "  m = input('양의 정수 두 개를 입력하세요 : ')     # m = 입력받은 양의 정수 두 개\n",
    "  if m == '0 0':                                  # 만약 '0 0'을 입력한다면, 루프 중단\n",
    "    break\n",
    "  m0.append(m)                                    # 숫자 리스트에 입력받은 양의 정수 추가\n",
    "\n",
    "## 한 자리 올림을 계산하는 프로그램\n",
    "for i in m0:                                      # 숫자 리스트를 입력받은 상태 그대로 분해\n",
    "  m1, m2 = i.split(' ')                           # 공백을 기준으로 양의 정수를 분해\n",
    "  m3 = max(len(m1), len(m2))                      # m3 = m1, m2 길이의 최댓값\n",
    "  cr = 0                                          # cr = 한 자리 올림 (시작은 0)\n",
    "\n",
    "  for j in range(1, m3 + 1):                      # 한 자리씩 다음 행위를 반복\n",
    "    if len(m1) < m3:                              # 만약 m1의 길이가 m3보다 작다면, m1 맨앞에 0 추가\n",
    "      m1 = '0' + m1\n",
    "    elif len(m2) < m3:                            # 만약 m2의 길이가 m3보다 작다면, m2 맨앞에 0 추가\n",
    "      m2 = '0' + m2\n",
    "\n",
    "    if int(m1[-j]) + int(m2[-j]) > 9:             # 만약 해당하는 자리가 한 자리 올림에 해당한다면, + 1\n",
    "      cr += 1\n",
    "      if j < m3 and 10 > int(m1[-j-1]) + int(m2[-j-1]) > 8:\n",
    "          cr += 1                                 # 그리고 그로 인해 앞 자리도 한 자리 올림이 된다면, + 1\n",
    "\n",
    "  ## 한 자리 올림의 결과를 출력하는 프로그램    \n",
    "  if cr == 0:\n",
    "    print('No carry operation')\n",
    "  else:\n",
    "    print(cr, 'carry operation')"
   ]
  }
 ],
 "metadata": {
  "kernelspec": {
   "display_name": "Python 3.9.12 ('base')",
   "language": "python",
   "name": "python3"
  },
  "language_info": {
   "codemirror_mode": {
    "name": "ipython",
    "version": 3
   },
   "file_extension": ".py",
   "mimetype": "text/x-python",
   "name": "python",
   "nbconvert_exporter": "python",
   "pygments_lexer": "ipython3",
   "version": "3.9.12"
  },
  "orig_nbformat": 4,
  "vscode": {
   "interpreter": {
    "hash": "1a6e773fc7f7b2b8b91c25b211311bf7ed1bb15ad853df008c3aead80ddb88d4"
   }
  }
 },
 "nbformat": 4,
 "nbformat_minor": 2
}
