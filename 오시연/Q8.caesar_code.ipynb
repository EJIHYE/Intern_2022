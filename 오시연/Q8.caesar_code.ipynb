{
 "cells": [
  {
   "cell_type": "markdown",
   "id": "947c2410",
   "metadata": {},
   "source": [
    "시저 암호는, 고대 로마의 황제 줄리어스 시저가 만들어 낸 암호이다.\n",
    "예를 들어 알파벳 A를 입력했을 때, 그 알파벳의 n개 뒤에 오는 알파벳이 출력되는 것이다.\n",
    "예를 들어 바꾸려는 단어가 'CAT\"고, n을 5로 지정하였을 때 \"HFY\"가 되는 것이다.\n",
    "어떠한 암호를 만들 문장과 n을 입력했을 때 암호를 만들어 출력하는 프로그램을 작성해라.\n",
    "\"\"\"\n",
    "\n",
    "## 과제 1. 대문자로 구성된 단어 1개를 입력받을 경우를 가정하여 시저 암호를 만드세요. input() 함수를 사용하세요. \n",
    "### input = \"ICL\"\n",
    "### n = 3\n",
    "### 출력 : LFO"
   ]
  },
  {
   "cell_type": "code",
   "execution_count": 6,
   "id": "8124362f",
   "metadata": {},
   "outputs": [
    {
     "name": "stdout",
     "output_type": "stream",
     "text": [
      "암호를 만들 단어:ICL\n",
      "n 입력:3\n",
      "LFO\n"
     ]
    }
   ],
   "source": [
    "alpha = 'ABCDEFGHIJKLMNOPQRSTUVWXYZ'\n",
    "result =''\n",
    "a = input('암호를 만들 단어:')\n",
    "n = input('n 입력:')   \n",
    "\n",
    "for i in a:        #입력한 문자를 하나씩 소환\n",
    "    j = alpha.index(i)  #소환된 문자의 인덱스를 찾아 변수에 저장\n",
    "    b = alpha[j + int(n)]  #n만큼 이동한 인덱스에 접근하여 해당 문자를 저장\n",
    "    result += b  #최종 결과값에 추가\n",
    "print(result)        "
   ]
  },
  {
   "cell_type": "markdown",
   "id": "11e47e71",
   "metadata": {},
   "source": [
    "## 과제 2. 대문자와 소문자로 구성된 단어 1개를 입력받을 경우를 가정하여 시저 암호를 만드세요. input() 함수를 사용하세요.\n",
    "### input = \"Library\"\n",
    "### n = 5\n",
    "### 출력 : Qngwfd "
   ]
  },
  {
   "cell_type": "code",
   "execution_count": 7,
   "id": "9d3bb07b",
   "metadata": {},
   "outputs": [
    {
     "name": "stdout",
     "output_type": "stream",
     "text": [
      "단어 입력Library\n",
      "n 입력:5\n",
      "Qngwfwd\n"
     ]
    }
   ],
   "source": [
    "alphabet= 'aAbBcCdDeEfFgGhHiIjJkKlLmMnNoOpPqQrRsStTuUvVwWxXyYzZ' *10 #범위를 벗어나는 것을 방지하기 위해 알파벳을 10번 반복\n",
    "\n",
    "x=input('단어 입력')\n",
    "n=input('n 입력:')\n",
    "result=''\n",
    "\n",
    "for i in x:        #입력한 문자를 하나씩 소환\n",
    "    j = alphabet.index(i)  #소환된 문자의 인덱스를 찾아 변수에 저장\n",
    "    b = alphabet[j + int(n)*2] #n*2만큼 이동한 인덱스에 접근하여 해당 문자를 저장\n",
    "    result += b   #최종 결과값에 추가\n",
    "print(result)        \n"
   ]
  },
  {
   "cell_type": "markdown",
   "id": "94d562c2",
   "metadata": {},
   "source": [
    "## 과제 3. 대문자와 소문자를 포함하는 문장을 입력받을 경우를 가정하여 시저 암호를 만드세요. input() 함수를 사용하세요.\n",
    "### input = \"MMy subject is Library & Information Science.\"\n",
    "### n = 2\n",
    "### 출력 : Oa uwdlgev ku Nkdtcta & Kphqtocvkqp Uekgpeg."
   ]
  },
  {
   "cell_type": "code",
   "execution_count": 8,
   "id": "d4a418ec",
   "metadata": {},
   "outputs": [
    {
     "name": "stdout",
     "output_type": "stream",
     "text": [
      "단어 입력:MMy subject is Library & Information Science.\n",
      "n 입력:2\n",
      "OOa uwdlgev ku Nkdtcta & Kphqtocvkqp Uekgpeg.\n"
     ]
    }
   ],
   "source": [
    "alphabet= 'aAbBcCdDeEfFgGhHiIjJkKlLmMnNoOpPqQrRsStTuUvVwWxXyYzZ' *10 #범위를 벗어나는 것을 방지하기 위해 알파벳을 10번 반복\n",
    "s = input('단어 입력:')\n",
    "n = input('n 입력:')\n",
    "\n",
    "result = ''\n",
    "\n",
    "for i in s:     #입력한 문자를 하나씩 소환\n",
    "    if i in alphabet:        #해당 문자가 alphabet에 존재할 경우  \n",
    "        j = alphabet.index(i)   #소환된 문자의 인덱스를 찾아 변수에 저장\n",
    "        b = alphabet[j + int(n)*2]  #n*2만큼 이동한 인덱스에 접근하여 해당 문자를 저장\n",
    "        result = result + b     #최종 결과값에 추가\n",
    "    else:                   #alphabet에 존재하지 않는 문자열일 경우(공백 또는 .)\n",
    "        result += str(i)    #그대로 최종 결과값에 추가\n",
    "print(result)        "
   ]
  }
 ],
 "metadata": {
  "kernelspec": {
   "display_name": "Python 3 (ipykernel)",
   "language": "python",
   "name": "python3"
  },
  "language_info": {
   "codemirror_mode": {
    "name": "ipython",
    "version": 3
   },
   "file_extension": ".py",
   "mimetype": "text/x-python",
   "name": "python",
   "nbconvert_exporter": "python",
   "pygments_lexer": "ipython3",
   "version": "3.9.12"
  }
 },
 "nbformat": 4,
 "nbformat_minor": 5
}
