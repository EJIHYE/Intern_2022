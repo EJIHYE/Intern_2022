{
 "cells": [
  {
   "cell_type": "markdown",
   "id": "ac99518a",
   "metadata": {},
   "source": [
    "# 10번\n",
    "\n",
    "### 문제.\n",
    "\n",
    "앞에서부터 읽을 때나 뒤에서부터 읽을 때나 모양이 같은 수를 대칭수(palindrome)라고 한다.  \n",
    "-두 자리 수를 곱해 만들 수 있는 대칭수 중 가장 큰 수는 9009 (= 91 × 99)이다.  \n",
    "-세 자리 수를 곱해 만들 수 있는 가장 큰 대칭수를 구하여라.  \n",
    "\n",
    "### 과제 1.\n",
    "세 자리 수를 곱해서 만들들 수 있는 가장 큰 대칭수를 구하시오.  \n",
    "출력 : 906609  "
   ]
  },
  {
   "cell_type": "code",
   "execution_count": 4,
   "id": "e98f6694",
   "metadata": {},
   "outputs": [
    {
     "name": "stdout",
     "output_type": "stream",
     "text": [
      "906609\n"
     ]
    }
   ],
   "source": [
    "M = 0\n",
    "for i in range(999, 99, -1):\n",
    "    # range(a, b, c):a부터 b까지 리스트를 만들되, a포함 b미포, c만큼 건너뜀\n",
    "    # 가장 큰수를 구해야하기 때문에 999부터 아래로 내려가게함\n",
    "    \n",
    "    for j in range(999, i-1, -1):\n",
    "        m = i * j\n",
    "        if m <= M: \n",
    "            break\n",
    "        elif str(m) == str(m)[::-1]:\n",
    "            # [::-1]:시퀀스 뒤집기\n",
    "            # 원래 문자열과 반대로 뒤집은 문자열 비교\n",
    "        \n",
    "            M = m\n",
    "\n",
    "print(M)"
   ]
  },
  {
   "cell_type": "markdown",
   "id": "f40f9d20",
   "metadata": {},
   "source": [
    "### 과제 2.\n",
    "출력 값에 천자리 구분기호가 나오도록 변환해 보세요(format()함수 사용)  \n",
    "출력 : 906,609  "
   ]
  },
  {
   "cell_type": "code",
   "execution_count": 10,
   "id": "69eafcbc",
   "metadata": {},
   "outputs": [
    {
     "name": "stdout",
     "output_type": "stream",
     "text": [
      "906,609\n"
     ]
    }
   ],
   "source": [
    "M = 0\n",
    "for i in range(999, 99, -1):\n",
    "    for j in range(999, i-1, -1):\n",
    "        m = i * j\n",
    "        if m <= M:\n",
    "            break\n",
    "        elif str(m) == str(m)[::-1]:\n",
    "            M = m\n",
    "\n",
    "print(format(M,\",\"))"
   ]
  }
 ],
 "metadata": {
  "kernelspec": {
   "display_name": "Python 3 (ipykernel)",
   "language": "python",
   "name": "python3"
  },
  "language_info": {
   "codemirror_mode": {
    "name": "ipython",
    "version": 3
   },
   "file_extension": ".py",
   "mimetype": "text/x-python",
   "name": "python",
   "nbconvert_exporter": "python",
   "pygments_lexer": "ipython3",
   "version": "3.9.12"
  }
 },
 "nbformat": 4,
 "nbformat_minor": 5
}
