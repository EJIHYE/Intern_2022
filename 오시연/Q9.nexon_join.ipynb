{
 "cells": [
  {
   "cell_type": "markdown",
   "id": "5f9876c8",
   "metadata": {},
   "source": [
    "어떤 자연수 n이 있을 때, d(n)을 n의 각 자릿수 숫자들과 n 자신을 더한 숫자라고 정의하자.\n",
    "n을 d(n)의 제네레이터(generator)라고 한다.\n",
    "예를 들어 d(91) = 9 + 1 + 91 = 101인 경우 91은 101의 제네레이터이다.\n",
    "어떤 숫자들은 하나 이상의 제네레이터를 가지고 있는데, 101의 제네레이터는 91 뿐 아니라 100도 있다.\n",
    "그런데 반대로, 제네레이터가 없는 숫자들도 있으며, 이런 숫자를 인도의 수학자 Kaprekar가 셀프 넘버(self-number)라 이름 붙였다.\n",
    "\n",
    "예를 들어 1,3,5,7,9,20,31 은 셀프 넘버 들이다.\n",
    "\n",
    "1 이상이고 5000 보다 작은 모든 셀프 넘버들의 합을 구하라."
   ]
  },
  {
   "cell_type": "markdown",
   "id": "7991aad1",
   "metadata": {},
   "source": [
    "## 과제 1. 1부터 30까지의 자연수 중에서, 제너레이터가 있는 수의 합을 구하시오. \n",
    "### 출력 : 420"
   ]
  },
  {
   "cell_type": "code",
   "execution_count": 4,
   "id": "c93db03d",
   "metadata": {
    "scrolled": false
   },
   "outputs": [
    {
     "name": "stdout",
     "output_type": "stream",
     "text": [
      "420\n"
     ]
    }
   ],
   "source": [
    "n = 1\n",
    "generator = []\n",
    "\n",
    "while n < 25:       #제네레이터를 가진 30 이하의 수는 24가 최대(24+2+4=30)\n",
    "    if n < 10:      #한 자리 숫자일 경우\n",
    "        x = n + n   #자기 자신만 더함\n",
    "    elif n < 25:    #두자리 숫자일 경우\n",
    "        m = str(n)   #문자열로 변환\n",
    "        n1 = int(m[0])  #인덱스를 이용해 각 자릿수를 따로 저장, 정수로 변환\n",
    "        n2 = int(m[1])\n",
    "        x = n + n1 + n2  #제네레이터를 가진 수 생성\n",
    "    generator.append(x)  #리스트에 추가\n",
    "    n += 1               #while반복문 변화식\n",
    "    \n",
    "print(sum(generator))   #리스트의 합계 출력"
   ]
  },
  {
   "cell_type": "markdown",
   "id": "5252c530",
   "metadata": {},
   "source": [
    "## 과제 2. 1이상 5000 미만의 셀프 넘버(제너레이터가 하나도 없는 수)의 합을 구하시오.\n",
    "### 출력 : 1227365"
   ]
  },
  {
   "cell_type": "code",
   "execution_count": 6,
   "id": "809a63ae",
   "metadata": {},
   "outputs": [
    {
     "name": "stdout",
     "output_type": "stream",
     "text": [
      "1227365\n"
     ]
    }
   ],
   "source": [
    "n = 1\n",
    "generator = []   #제네레이터를 가진 수를 넣을 리스트\n",
    "self_number = []       #셀프 넘버를 넣을 리스트\n",
    "while n < 5000:        #1~4999까지 반복하는 동안\n",
    "    if n < 10:        #한자리 수일 경우\n",
    "        x = n + n     #자기 자신만 더함\n",
    "    elif n < 100:     #두자리 수일 경우\n",
    "        m = str(n)     #문자열로 변환\n",
    "        n1 = int(m[0]) #인덱스를 이용해 각 자릿수를 따로 저장, 정수로 변환\n",
    "        n2 = int(m[1])\n",
    "        x = n + n1 + n2 #제네레이터를 가진 수 생성\n",
    "    elif n < 1000:    #세자리 수일 경우\n",
    "        m = str(n)\n",
    "        n1 = int(m[0])\n",
    "        n2 = int(m[1])\n",
    "        n3 = int(m[2])\n",
    "        x = n + n1 + n2 + n3  \n",
    "    elif n < 5000:   #네자리 수일 경우\n",
    "        m = str(n)\n",
    "        n1 = int(m[0])\n",
    "        n2 = int(m[1])\n",
    "        n3 = int(m[2])\n",
    "        n4 = int(m[3])\n",
    "        x = n + n1 + n2 + n3 + n4   \n",
    "    \n",
    "    generator.append(x)   #제네레이터를 가진 수 리스트에 추가\n",
    "    n += 1                      #while 반복문의 변화식\n",
    "for i in range(1,5000):         #1부터 4999까지의 숫자를 하나씩  꺼낸다\n",
    "    if i not in generator:      #만약 제네레이터를 가진 수 리스트에 존재하지 않는다면 \n",
    "        self_number.append(i)    #셀프 넘버이므로 리스트에 추가\n",
    "   \n",
    "print(sum(self_number))    #최종 결과값인 셀프 넘버의 합 출력"
   ]
  }
 ],
 "metadata": {
  "kernelspec": {
   "display_name": "Python 3 (ipykernel)",
   "language": "python",
   "name": "python3"
  },
  "language_info": {
   "codemirror_mode": {
    "name": "ipython",
    "version": 3
   },
   "file_extension": ".py",
   "mimetype": "text/x-python",
   "name": "python",
   "nbconvert_exporter": "python",
   "pygments_lexer": "ipython3",
   "version": "3.9.12"
  }
 },
 "nbformat": 4,
 "nbformat_minor": 5
}
