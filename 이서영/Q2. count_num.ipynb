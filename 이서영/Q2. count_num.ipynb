{
 "cells": [
  {
   "cell_type": "markdown",
   "id": "1de4a085",
   "metadata": {},
   "source": [
    "# 2번\n",
    "\n",
    "### 문제\n",
    "1~1000에서 각 숫자의 개수 구하기  \n",
    "  \n",
    "예로 10 ~ 15 까지의 각 숫자의 개수를 구해보자  \n",
    "- 10 = 1, 0  \n",
    "- 11 = 1, 1  \n",
    "- 12 = 1, 2  \n",
    "- 13 = 1, 3  \n",
    "- 14 = 1, 4  \n",
    "- 15 = 1, 5  \n",
    "그러므로 이 경우의 답은 0:1개, 1:7개, 2:1개, 3:1개, 4:1개, 5:1개  \n",
    "\n",
    "### 과제 1.\n",
    "10~15까지의 각 숫자 개수를 출력하세요(1).   \n",
    "출력 : 0 = 1개, 1 = 7개, 2 = 1개, 3 = 1개, 4 = 1개, 5 = 1개  "
   ]
  },
  {
   "cell_type": "code",
   "execution_count": 6,
   "id": "b1a79ab8",
   "metadata": {},
   "outputs": [
    {
     "name": "stdout",
     "output_type": "stream",
     "text": [
      "0 = 1개, 1 = 7개, 2 = 1개, 3 = 1개, 4 = 1개, 5 = 1개\n"
     ]
    }
   ],
   "source": [
    "from collections import defaultdict # collections모듈 사용\n",
    "                                     # 특정 키에 대해서 값이 없는 경우 키값을 기본값을 지정\n",
    "\n",
    "\n",
    "d = defaultdict(int)\n",
    "\n",
    "for n in range(10, 16):\n",
    "    for x in str(n):\n",
    "        d[x] += 1\n",
    "d_sort=dict(sorted(d.items()))  # sorted 문자열 정렬 \n",
    "out = []\n",
    "\n",
    "for a, b in d_sort.items():\n",
    "    out.append(\"{} = {}개\".format(a, b))\n",
    "\n",
    "print(', '.join(out))"
   ]
  },
  {
   "cell_type": "markdown",
   "id": "4bcb88d1",
   "metadata": {},
   "source": [
    "### 과제 2.\n",
    "10~15까지의 각 숫자 개수를 출력하세요(2).  \n",
    "출력 : 0 = 1개, 1 = 7개, 2 = 1개, 3 = 1개, 4 = 1개, 5 = 1개, 6 = 0개, 7 = 0개, 8 = 0개, 9 = 0개"
   ]
  },
  {
   "cell_type": "code",
   "execution_count": 8,
   "id": "2fcdecc6",
   "metadata": {},
   "outputs": [
    {
     "name": "stdout",
     "output_type": "stream",
     "text": [
      "0=1개, 1=7개, 2=1개, 3=1개, 4=1개, 5=1개, 6=0개, 7=0개, 8=0개, 9=0개\n"
     ]
    }
   ],
   "source": [
    "count={ x:0 for x in range(0,10) } # for 변수 in range(횟수):반복할코드\n",
    "                                    # count 리스트 생성\n",
    "\n",
    "for x in range(10,16): \n",
    "    for i in str(x):\n",
    "        count[int(i)]+=1 \n",
    "        \n",
    "out = []\n",
    "for a, b in count.items(): #items함수:딕셔너리의 구성요소를 모두 출력\n",
    "    out.append(\"{}={}개\".format(a, b)) #out에 a=b 형식으로 저장\n",
    "\n",
    "print(', '.join(out))"
   ]
  },
  {
   "cell_type": "markdown",
   "id": "166b9ab5",
   "metadata": {},
   "source": [
    "### 과제 3.\n",
    "\n",
    "1~1000까지의 각 숫자 개수를 출력하세요  \n",
    "출력 : 0 = 192개, 1 = 301개, 2 = 300개, 3 = 300개, 4 = 300개, 5 = 300개, 6 = 300개, 7 = 300개, 8 = 300개, 9 = 300개 "
   ]
  },
  {
   "cell_type": "code",
   "execution_count": 10,
   "id": "66e85487",
   "metadata": {},
   "outputs": [
    {
     "name": "stdout",
     "output_type": "stream",
     "text": [
      "0=192개, 1=301개, 2=300개, 3=300개, 4=300개, 5=300개, 6=300개, 7=300개, 8=300개, 9=300개\n"
     ]
    }
   ],
   "source": [
    "count={ x:0 for x in range(0,10) }\n",
    "\n",
    "# for 변수 in range(횟수):\n",
    "#   반복할코드\n",
    "\n",
    "for x in range(1,1001): \n",
    "    for i in str(x):\n",
    "        count[int(i)]+=1 \n",
    "        \n",
    "out = []\n",
    "for a, b in count.items():\n",
    "    out.append(\"{}={}개\".format(a, b))\n",
    "\n",
    "print(', '.join(out))"
   ]
  }
 ],
 "metadata": {
  "kernelspec": {
   "display_name": "Python 3 (ipykernel)",
   "language": "python",
   "name": "python3"
  },
  "language_info": {
   "codemirror_mode": {
    "name": "ipython",
    "version": 3
   },
   "file_extension": ".py",
   "mimetype": "text/x-python",
   "name": "python",
   "nbconvert_exporter": "python",
   "pygments_lexer": "ipython3",
   "version": "3.9.12"
  }
 },
 "nbformat": 4,
 "nbformat_minor": 5
}
