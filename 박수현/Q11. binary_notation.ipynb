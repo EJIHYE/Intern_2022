{
 "cells": [
  {
   "cell_type": "markdown",
   "metadata": {},
   "source": [
    "# 11번_Binary notation\n",
    "2진법이란, 어떤 자연수를 0과 1로만 나타내는 것이다. 예를 들어 73은 64(2^6)+8(2^3)+1(2^0)이기 때문에 1001001으로 표현한다.\n",
    "\n",
    "어떤 숫자를 입력받았을 때 그 숫자를 2진법으로 출력하는 프로그램을 작성하시오.\n",
    "\n",
    "## 과제 1. input()함수를 사용하고, input값을 이진법으로 나타내시오.\n",
    "input = \"73\"\n",
    "\n",
    "출력 : 1001001\n",
    "\n",
    "## 과제 2. input()함수를 사용하고, input값을 16진법으로 나타내시오.\n",
    "input = \"173\"\n",
    "\n",
    "출력 : AD"
   ]
  },
  {
   "cell_type": "code",
   "execution_count": 1,
   "metadata": {},
   "outputs": [
    {
     "name": "stdout",
     "output_type": "stream",
     "text": [
      "1001001\n"
     ]
    }
   ],
   "source": [
    "# k = 2진법으로 변환한 문자열\n",
    "k = ''\n",
    "# k1 = 자연수를 입력받을 때, 숫자(정수)로 변환\n",
    "k1 = int(input('자연수를 입력하세요 : '))\n",
    "\n",
    "## 2진법으로 변환하는 프로그램 (예. 73 % 2 = 1, 73 // 2 = 36)\n",
    "while k1:                    # k1이 참이라면 다음 행위를 반복\n",
    "    k += str(k1 % 2)         # k1 나누기 2의 나머지를 문자로 변환하여 문자열에 추가\n",
    "    k1 = k1 // 2             # k1 나누기 2의 정수인 몫으로 k1 업데이트\n",
    "    \n",
    "# 2진법으로 변환한 문자열을 뒤집어 출력 [시작:끝:증감]\n",
    "print(k[::-1]) "
   ]
  },
  {
   "cell_type": "code",
   "execution_count": 2,
   "metadata": {},
   "outputs": [
    {
     "name": "stdout",
     "output_type": "stream",
     "text": [
      "AD\n"
     ]
    }
   ],
   "source": [
    "# k = 16진법으로 변환한 문자열\n",
    "k = ''\n",
    "# k0 = 16진법으로 변환할 때 사용할 딕셔너리\n",
    "k0 = {10 : 'A', 11 : 'B', 12 : 'C', 13 : 'D', 14 : 'E', 15 : 'F'}\n",
    "# k1 = 자연수를 입력받을 때, 숫자(정수)로 변환\n",
    "k1 = int(input('자연수를 입력하세요 : '))\n",
    "\n",
    "## 16진법으로 변환하는 프로그램 (예. 173 % 16 = 13, 173 // 16 = 10)\n",
    "while k1:                    # k1이 참이라면 다음 행위를 반복\n",
    "    k2 = k1 % 16             # k2 = k 나누기 16의 나머지\n",
    "    if 10 <= k2 <= 15:       # 만약 k2가 딕셔너리 범위 안에 있다면, 딕셔너리 값으로 변환하여 문자열에 추가\n",
    "        k += k0[k2]\n",
    "    else:                    # k2가 딕셔너리 범위 안에 없다면, k2를 문자로 변환하여 문자열에 추가\n",
    "        k += str(k2)\n",
    "\n",
    "    k1 = k1 // 16            # k1 나누기 16의 정수인 몫으로 k1 업데이트\n",
    "\n",
    "# 16진법으로 변환한 문자열을 뒤집어 출력 [시작:끝:증감]\n",
    "print(k[::-1])"
   ]
  }
 ],
 "metadata": {
  "kernelspec": {
   "display_name": "Python 3.9.12 ('base')",
   "language": "python",
   "name": "python3"
  },
  "language_info": {
   "codemirror_mode": {
    "name": "ipython",
    "version": 3
   },
   "file_extension": ".py",
   "mimetype": "text/x-python",
   "name": "python",
   "nbconvert_exporter": "python",
   "pygments_lexer": "ipython3",
   "version": "3.9.12"
  },
  "orig_nbformat": 4,
  "vscode": {
   "interpreter": {
    "hash": "1a6e773fc7f7b2b8b91c25b211311bf7ed1bb15ad853df008c3aead80ddb88d4"
   }
  }
 },
 "nbformat": 4,
 "nbformat_minor": 2
}
