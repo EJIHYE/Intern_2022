{
 "cells": [
  {
   "cell_type": "markdown",
   "id": "bbe0a84a",
   "metadata": {},
   "source": [
    "# 7번\n",
    "\n",
    "### 문제\n",
    "1부터 10까지 자연수를 각각 제곱해 더하면 다음과 같습니다.  \n",
    "-제곱의 합 : 1^2 + 2^2 + ... + 10^2 = 385  \n",
    "\n",
    "1부터 10을 먼저 더한 다음에 그 결과를 제곱하면 다음과 같습니다  \n",
    "-합의 제곱 : (1 + 2 + ... + 10)^2 = 55^2 = 3025  \n",
    "\n",
    "따라서 1부터 10까지 자연수에 대해  \n",
    "\"합의 제곱\"과 \"제곱의 합\" 의 차이는 3025 - 385 = 2640 이 됩니다.  \n",
    "그러면 1부터 100까지 자연수에 대해 \"합의 제곱\"과 \"제곱의 합\"의 차이는 얼마입니까?  \n",
    "\n",
    "### 과제 1.\n",
    "1부터 100까지 자연수에 대해 \"합의 제곱\"과 \"제곱의 합\"의 차이를 출력하세요.  \n",
    "출력 : 25164150"
   ]
  },
  {
   "cell_type": "code",
   "execution_count": 1,
   "id": "2798f910",
   "metadata": {},
   "outputs": [
    {
     "name": "stdout",
     "output_type": "stream",
     "text": [
      "25164150\n"
     ]
    }
   ],
   "source": [
    "sum, sqrsum = 0, 0       #sum:합의제곱, sqrsum:제곱의 합\n",
    "for i in range(1, 101): #1부터 100까지 반복\n",
    "    sum += i \n",
    "    sqrsum += i*i\n",
    "\n",
    "print(sum*sum - sqrsum)"
   ]
  }
 ],
 "metadata": {
  "kernelspec": {
   "display_name": "Python 3 (ipykernel)",
   "language": "python",
   "name": "python3"
  },
  "language_info": {
   "codemirror_mode": {
    "name": "ipython",
    "version": 3
   },
   "file_extension": ".py",
   "mimetype": "text/x-python",
   "name": "python",
   "nbconvert_exporter": "python",
   "pygments_lexer": "ipython3",
   "version": "3.9.12"
  }
 },
 "nbformat": 4,
 "nbformat_minor": 5
}
