{
 "cells": [
  {
   "cell_type": "markdown",
   "id": "667d79e2",
   "metadata": {},
   "source": [
    "# 11번\n",
    "\n",
    "### 문제\n",
    "2진법이란, 어떤 자연수를 0과 1로만 나타내는 것이다.  \n",
    "예를 들어 73은 64(2^6)+8(2^3)+1(2^0)이기 때문에 1001001으로 표현한다.  \n",
    "어떤 숫자를 입력받았을 때 그 숫자를 2진법으로 출력하는 프로그램을 작성하시오.  \n",
    "\n",
    "### 과제 1.\n",
    "input()함수를 사용하고, input값을 이진법으로 나타내시오.  \n",
    "Input = 73  \n",
    "출력 : 1001001  "
   ]
  },
  {
   "cell_type": "code",
   "execution_count": 2,
   "id": "bfd57e71",
   "metadata": {},
   "outputs": [
    {
     "name": "stdout",
     "output_type": "stream",
     "text": [
      "73\n",
      "1001001\n"
     ]
    }
   ],
   "source": [
    "a = int(input())\n",
    "b = []\n",
    "while a:\n",
    "    b.append(str(a%2))\n",
    "    a = int(a/2)\n",
    "\n",
    "b.reverse()\n",
    "print(\"\".join(b))"
   ]
  },
  {
   "cell_type": "markdown",
   "id": "25a68c33",
   "metadata": {},
   "source": [
    "###  과제 2.\n",
    "input()함수를 사용하고, input값을 16진법으로 나타내시오.  \n",
    "input = 173  \n",
    "출력 : AD  "
   ]
  },
  {
   "cell_type": "code",
   "execution_count": 1,
   "id": "87bd2d14",
   "metadata": {},
   "outputs": [
    {
     "name": "stdout",
     "output_type": "stream",
     "text": [
      "173\n",
      "AD\n"
     ]
    }
   ],
   "source": [
    "a = int(input())\n",
    "b = []\n",
    "num = {10: 'A', 11: 'B', 12: 'C', 13: 'D', 14: 'E', 15: 'F'}\n",
    "while a:\n",
    "    b.append(str(num[a%16]))\n",
    "    a = int(a/16)\n",
    "\n",
    "b.reverse()\n",
    "print(\"\".join(b))"
   ]
  }
 ],
 "metadata": {
  "kernelspec": {
   "display_name": "Python 3 (ipykernel)",
   "language": "python",
   "name": "python3"
  },
  "language_info": {
   "codemirror_mode": {
    "name": "ipython",
    "version": 3
   },
   "file_extension": ".py",
   "mimetype": "text/x-python",
   "name": "python",
   "nbconvert_exporter": "python",
   "pygments_lexer": "ipython3",
   "version": "3.9.12"
  }
 },
 "nbformat": 4,
 "nbformat_minor": 5
}
