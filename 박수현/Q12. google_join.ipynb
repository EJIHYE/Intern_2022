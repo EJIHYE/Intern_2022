{
 "cells": [
  {
   "cell_type": "markdown",
   "metadata": {},
   "source": [
    "# 12번_Google join\n",
    "1부터 10,000까지 8이라는 숫자가 총 몇번 나오는지 출력하시오.\n",
    "- 8이 포함되어 있는 숫자의 갯수를 카운팅 하는 것이 아니라 8이라는 숫자를 모두 카운팅 해야 한다.\n",
    "(※ 예를들어 8808은 3, 8888은 4로 카운팅 해야 함)\n",
    "\n",
    "## 과제 1. 1부터 10000까지 숫자 8이 등장하는 횟수를 구하시오.\n",
    "출력 : 4000"
   ]
  },
  {
   "cell_type": "code",
   "execution_count": 1,
   "metadata": {},
   "outputs": [
    {
     "name": "stdout",
     "output_type": "stream",
     "text": [
      "4000\n"
     ]
    }
   ],
   "source": [
    "# l = 1부터 10000까지 나열할 빈 리스트\n",
    "l = []\n",
    "\n",
    "## 1부터 10000까지 수를 리스트에 추가하는 프로그램\n",
    "# 1부터 10000까지 다음 행위를 반복\n",
    "for i in range(1, 10001):\n",
    "    # 현재 수를 l에 추가\n",
    "    l.append(i)\n",
    "\n",
    "# l을 문자로 변환한 후 8이 등장하는 횟수를 카운팅 하여 출력\n",
    "print(str(l).count('8'))"
   ]
  }
 ],
 "metadata": {
  "kernelspec": {
   "display_name": "Python 3.9.12 ('base')",
   "language": "python",
   "name": "python3"
  },
  "language_info": {
   "codemirror_mode": {
    "name": "ipython",
    "version": 3
   },
   "file_extension": ".py",
   "mimetype": "text/x-python",
   "name": "python",
   "nbconvert_exporter": "python",
   "pygments_lexer": "ipython3",
   "version": "3.9.12"
  },
  "orig_nbformat": 4,
  "vscode": {
   "interpreter": {
    "hash": "1a6e773fc7f7b2b8b91c25b211311bf7ed1bb15ad853df008c3aead80ddb88d4"
   }
  }
 },
 "nbformat": 4,
 "nbformat_minor": 2
}
