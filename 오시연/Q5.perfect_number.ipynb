{
 "cells": [
  {
   "cell_type": "markdown",
   "id": "a0e38aea",
   "metadata": {},
   "source": [
    "자기 자신을 제외한 모든 양의 약수들의 합이 자기 자신이 되는 자연수를 완전수라고 한다.\n",
    "예를 들면, 6과 28은 완전수이다.\n",
    "6=1+2+3 // 1,2,3은 각각 6의 약수 28=1+2+4+7+14 // 1,2,4,7,14는 각각 28의 약수\n",
    "입력으로 자연수 N을 받고, 출력으로 N 이하의 모든 완전수를 출력하는 코드를 작성하라.\n",
    "## 과제 1\n",
    "### input = \"10000\"\n",
    "### 출력: 6, 28, 496, 8128"
   ]
  },
  {
   "cell_type": "code",
   "execution_count": 1,
   "id": "35acb0d7",
   "metadata": {},
   "outputs": [
    {
     "name": "stdout",
     "output_type": "stream",
     "text": [
      "자연수 입력:10000\n",
      "6, 28, 496, 8128\n"
     ]
    }
   ],
   "source": [
    "N = int(input(\"자연수 입력:\")) \n",
    "\n",
    "result = []                 #완전수를 저장할 리스트.\n",
    "\n",
    "for i in range(1, N+1):    # 1부터 입력한 숫자(N)까지 반복문 실행\n",
    "    sum = 0                #완전수 여부를 확인하기 위한 변수\n",
    "    for j in range(1, i):  # 1부터 i 전까지\n",
    "        if i % j==0:       #나누었을 때 나머지가 0이라면, j는 i의 약수\n",
    "            sum += j       # 약수들의 합을 구합니다.\n",
    "    if i == sum:           #자신을 제외한 약수들의 합이 자신과 같다면, 즉 완전수면\n",
    "        result.append(str(i)) #문자열로 바꾸어 저장\n",
    "print(', '.join(result))      #"
   ]
  }
 ],
 "metadata": {
  "kernelspec": {
   "display_name": "Python 3 (ipykernel)",
   "language": "python",
   "name": "python3"
  },
  "language_info": {
   "codemirror_mode": {
    "name": "ipython",
    "version": 3
   },
   "file_extension": ".py",
   "mimetype": "text/x-python",
   "name": "python",
   "nbconvert_exporter": "python",
   "pygments_lexer": "ipython3",
   "version": "3.9.12"
  }
 },
 "nbformat": 4,
 "nbformat_minor": 5
}
