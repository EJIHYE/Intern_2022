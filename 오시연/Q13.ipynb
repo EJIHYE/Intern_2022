{
 "cells": [
  {
   "cell_type": "markdown",
   "id": "452ae7be",
   "metadata": {},
   "source": [
    "첫 번째 계산\n",
    "  아이들은 여러 자리 숫자들을 더하기 위해서\n",
    "  우에서 좌로 숫자를 하나씩 차례대로 더 하라고 배웠다.\n",
    "  1을 한 숫자 위치에서 다음 자리로 더하기위해 이동하는 \"한자리올림\"연산을\n",
    "  많이 발견하는 것은 중요한 도전이 된다.\n",
    "  당신의 일은 교육자가 그들의 어려움을 평가하기 위하여,\n",
    "  덧셈 문제들의 각 집합에 대해서 한자리올림 연산들의 수를 계산하는 것이다.\n",
    "\n",
    "- 입력\n",
    "  입력의 각 라인은 10개의 숫자들보다 미만인 양의 정수들 두 개를 포함한다.\n",
    "  입력의 마지막 라인은 0 0 을 포한한다.\n",
    "\n",
    "- 출력\n",
    "  마지막을 제외한 입력의 각 라인에 대해서 당신은 두 숫자들을 더한 결과에서\n",
    "  한자리올림 연산들의 수를 아래 처럼 보여지는 형식으로 계산하여 출력해야 한다."
   ]
  },
  {
   "cell_type": "markdown",
   "id": "8f1b3628",
   "metadata": {},
   "source": [
    "과제 1. 입력 값의 자릿수가 같을 때 한자리 올림 계산 횟수를 출력하시오.\n",
    "  Input :  123 456 \n",
    "            \n",
    "           555 555\n",
    "           \n",
    "          123 594\n",
    "           \n",
    "           0 0\n",
    "  출력 :   No carry operation\n",
    "           \n",
    "           3 carry operation\n",
    "          \n",
    "          1 carry operation\n",
    " 조건 1> 입력이 총 4번 완료된 후에 계산이 수행되도록 하세요.\n",
    " 조건 2> 입력값은 '123 456'의 형태로 받습니다.\n",
    "\n",
    "==========================================================================\n",
    " 과제 2. 입력 값의 자릿수가 다를 때의 한자리 올림 계산 횟수를 출력하시오.\n",
    "   Input : 13 452\n",
    "           \n",
    "           55 555\n",
    "          \n",
    "          1009 99\n",
    "          \n",
    "          0 0\n",
    "   출력 : No carry operation\n",
    "        \n",
    "        2 carry operation\n",
    "        \n",
    "        1 carry operation\n",
    " 조건 1> 입력이 총 4번 완료된 후에 계산이 수행되도록 하세요.\n",
    " 조건 2> 입력값은 '13 452'의 형태로 받습니다."
   ]
  },
  {
   "cell_type": "code",
   "execution_count": 17,
   "id": "1066052d",
   "metadata": {},
   "outputs": [
    {
     "name": "stdout",
     "output_type": "stream",
     "text": [
      "13 452\n",
      "55 555\n",
      "1009 99\n",
      "0 0\n",
      "No carry operation\n",
      "2 carry operation\n",
      "2 carry operation\n"
     ]
    }
   ],
   "source": [
    "list_N = []   #입력값 넣을 리스트\n",
    "while True:\n",
    "    input_N = input()\n",
    "    if (input_N == '0 0'):\n",
    "        break\n",
    "    input_N_D = tuple(map(int, input_N.split())) #두 수를 공백 기준으로 나누어 튜플로 저장\n",
    "    list_N.append(input_N_D)\n",
    "\n",
    "\n",
    "def Primary_A(Number_1, Number_2):\n",
    "    Carry_N = 0\n",
    "    a = 0\n",
    "    quotient_1 = Number_1\n",
    "    quotient_2 = Number_2\n",
    "    while(quotient_1 != 0 and quotient_2 != 0): #0이 될 때 빠져나옴\n",
    "        if(((quotient_1 % 10) + (quotient_2 % 10) + a ) >= 10 ): #10으로 나눈 나머지로 일의자리를 구해서 더함, 10 이상이면 올림 발생\n",
    "            a = 1                   #올림 발생한 경우, 1이 다음 반복문에서 더해져야 함\n",
    "            Carry_N = Carry_N + 1  #올림 발생 수 카운트\n",
    "        else:\n",
    "            a = 0\n",
    "        quotient_1 = int(quotient_1 // 10)    #10으로 나누었을 때의 몫을 넣은 뒤 while문 반복\n",
    "        quotient_2 = int(quotient_2 // 10)    \n",
    "       \n",
    "    return Carry_N\n",
    "\n",
    "\n",
    "for x in list_N:       #리스트의 요소(=튜플) 하나씩 꺼내 반복\n",
    "    Number_1 = x[0]    #튜플의 첫번째 요소 대입\n",
    "    Number_2 = x[1]    #튜플의 두번째 요소 대입\n",
    "    Carry_N = Primary_A(Number_1, Number_2)\n",
    "    if (Carry_N == 0):\n",
    "        print(\"No carry operation\")\n",
    "    else:\n",
    "        print (str(Carry_N) + \" carry operation\")\n",
    "   "
   ]
  },
  {
   "cell_type": "code",
   "execution_count": null,
   "id": "c44a43ac",
   "metadata": {},
   "outputs": [],
   "source": []
  }
 ],
 "metadata": {
  "kernelspec": {
   "display_name": "Python 3 (ipykernel)",
   "language": "python",
   "name": "python3"
  },
  "language_info": {
   "codemirror_mode": {
    "name": "ipython",
    "version": 3
   },
   "file_extension": ".py",
   "mimetype": "text/x-python",
   "name": "python",
   "nbconvert_exporter": "python",
   "pygments_lexer": "ipython3",
   "version": "3.9.12"
  }
 },
 "nbformat": 4,
 "nbformat_minor": 5
}
