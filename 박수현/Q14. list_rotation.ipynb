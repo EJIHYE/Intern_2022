{
 "cells": [
  {
   "cell_type": "markdown",
   "metadata": {},
   "source": [
    "# 14번_List rotation\n",
    "\n",
    "아래 조건에 따라 리스트를 회전하는 프로그램을 작성하시오.\n",
    "- 입력값은 한 행의 문자열로 주어지며, 각 값은 공백으로 구분된다.\n",
    "- 첫 번째 값은 리스트를 회전하는 양과 방향(음수의 경우 좌측으로, 양수의 경우 우측으로 회전)이다.\n",
    "- 첫 번째 값을 제외한 나머지 값은 리스트의 각 항목의 값이다.\n",
    "- 회전된 리스트를 문자열로 출력한다.\n",
    "- 구현에 이용할 자료구조에 대한 조건이나 제약은 없다.\n",
    "- 입력되는 리스트의 항목의 개수는 유한한다.\n",
    "\n",
    "| 입력 | 출력 |\n",
    "| ---- | ---- |\n",
    "| 1 10 20 30 40 50 | 50 10 20 30 40 |\n",
    "| 4 가 나 다 라 마 바 사 | 라 마 바 사 가 나 다 |\n",
    "| -2 A B C D E F G | C D E F G A B |\n",
    "| 0 똘기 떵이 호치 새초미 | 똘기 떵이 호치 새초미 |\n",
    "\n",
    "## 과제 1. input의 첫 값이 양수(0포함, 문자열로 입력 됨)일 경우만을 가정하고 리스트를 회전하는 코드를 작성하시오. \n",
    "input = 1 10 20 30 40 50\n",
    "\n",
    "출력 : 50, 10, 20, 30, 40\n",
    "\n",
    "## 과제 2. input의 첫 값이 양수일수도 음수일 수도 있음을 고려하여 코드를 작성하시오.\n",
    "input = -2 A B C D E F G\n",
    "\n",
    "출력 = C, D, E, F, G, A, B"
   ]
  },
  {
   "cell_type": "code",
   "execution_count": 1,
   "metadata": {},
   "outputs": [
    {
     "name": "stdout",
     "output_type": "stream",
     "text": [
      "---------------------------------------------\n",
      "50, 10, 20, 30, 40\n"
     ]
    }
   ],
   "source": [
    "# n = 회전하는 양과 문자열을 입력받을 때, 공백을 기준으로 분해\n",
    "n = input('회전하는 양과 문자열을 입력하세요 : ').split()\n",
    "\n",
    "## 리스트를 회전하는 프로그램\n",
    "# n0 = 회전하는 양\n",
    "n0 = int(n.pop(0))\n",
    "# n1 = 회전하는 양에 따른 리스트의 변화 (양수는 우측, 음수는 좌측으로 회전)\n",
    "# 처음 문자부터 처음 문자 이전까지 회전\n",
    "n1 = n[-n0:] + n[:-n0]\n",
    "\n",
    "# 사이에 ', '를 조인하여 회전한 문자열을 출력\n",
    "print('-' * 45)\n",
    "print(', '.join((n1)))"
   ]
  },
  {
   "cell_type": "code",
   "execution_count": 2,
   "metadata": {},
   "outputs": [
    {
     "name": "stdout",
     "output_type": "stream",
     "text": [
      "---------------------------------------------\n",
      "C, D, E, F, G, A, B\n"
     ]
    }
   ],
   "source": [
    "# n = 회전하는 양과 문자열을 입력받을 때, 공백을 기준으로 분해\n",
    "n = input('회전하는 양과 문자열을 입력하세요 : ').split()\n",
    "\n",
    "## 리스트를 회전하는 프로그램\n",
    "# n0 = 회전하는 양\n",
    "n0 = int(n.pop(0))\n",
    "# n1 = 회전하는 양에 따른 리스트의 변화 (양수는 우측, 음수는 좌측으로 회전)\n",
    "# 처음 문자부터 처음 문자 이전까지 회전\n",
    "n1 = n[-n0:] + n[:-n0]\n",
    "\n",
    "# 사이에 ', '를 조인하여 회전한 문자열을 출력\n",
    "print('-' * 45)\n",
    "print(', '.join((n1)))"
   ]
  }
 ],
 "metadata": {
  "kernelspec": {
   "display_name": "Python 3.9.12 ('base')",
   "language": "python",
   "name": "python3"
  },
  "language_info": {
   "codemirror_mode": {
    "name": "ipython",
    "version": 3
   },
   "file_extension": ".py",
   "mimetype": "text/x-python",
   "name": "python",
   "nbconvert_exporter": "python",
   "pygments_lexer": "ipython3",
   "version": "3.9.12"
  },
  "orig_nbformat": 4,
  "vscode": {
   "interpreter": {
    "hash": "1a6e773fc7f7b2b8b91c25b211311bf7ed1bb15ad853df008c3aead80ddb88d4"
   }
  }
 },
 "nbformat": 4,
 "nbformat_minor": 2
}
