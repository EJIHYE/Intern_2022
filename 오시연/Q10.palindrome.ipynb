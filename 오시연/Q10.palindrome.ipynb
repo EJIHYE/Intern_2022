{
 "cells": [
  {
   "cell_type": "markdown",
   "id": "50a0fb2c",
   "metadata": {},
   "source": [
    "앞에서부터 읽을 때나 뒤에서부터 읽을 때나 모양이 같은 수를 대칭수(palindrome)라고 한다.\n",
    "- 두 자리 수를 곱해 만들 수 있는 대칭수 중 가장 큰 수는 9009 (= 91 × 99)이다.\n",
    "- 세 자리 수를 곱해 만들 수 있는 가장 큰 대칭수를 구하여라."
   ]
  },
  {
   "cell_type": "markdown",
   "id": "04039f56",
   "metadata": {},
   "source": [
    "### 과제 1. 세 자리 수를 곱해서 만들들 수 있는 가장 큰 대칭수를 구하시오.\n",
    "### 출력 : 906609"
   ]
  },
  {
   "cell_type": "code",
   "execution_count": 4,
   "id": "78f5094a",
   "metadata": {},
   "outputs": [
    {
     "name": "stdout",
     "output_type": "stream",
     "text": [
      "906609\n"
     ]
    }
   ],
   "source": [
    "result= []  \n",
    "for i in range(100,1000):   #100부터 999까지의 수를 생성\n",
    "    for j in range(100,1000): #한 번 더 생성\n",
    "        num = str(i*j)        #곱한 뒤 문자열 형태로 변수에 저장\n",
    "        if len(num)== 6:      #문자열 길이가 6일 경우\n",
    "            a,b,c,d,e,f= num[0], num[1], num[2], num[3], num[4], num[5] #인덱스에 해당하는 숫자를 변수에 저장\n",
    "            if a==f and b==e and c==d:  #대칭수일 경우\n",
    "                result.append(int(num))   #정수로 변환, 결과 리스트에 추가\n",
    "        else:                          #문자열 길이가 6이 아닐 경우(=5자리일 경우)\n",
    "            a,b,c,d,e= num[0], num[1], num[2], num[3], num[4]  #인덱스에 해당하는 숫자를 변수에 저장\n",
    "            if a==e and b==d:           #대칭수일 경우\n",
    "                result.append(int(num)) #정수로 변환, 리스트에 추가\n",
    "print(max(result))               #리스트의 최대값을 반환"
   ]
  },
  {
   "cell_type": "markdown",
   "id": "f8be8098",
   "metadata": {},
   "source": [
    "### 과제 2. 출력 값에 천자리 구분기호가 나오도록 변환해 보세요(format()함수 사용)\n",
    "### 출력 : 906,609"
   ]
  },
  {
   "cell_type": "code",
   "execution_count": 5,
   "id": "861995ed",
   "metadata": {},
   "outputs": [
    {
     "name": "stdout",
     "output_type": "stream",
     "text": [
      "906,609\n"
     ]
    }
   ],
   "source": [
    "result= []\n",
    "for i in range(100,1000):\n",
    "    for j in range(100,1000):\n",
    "        num = str(i*j)\n",
    "        if len(num)== 6:\n",
    "            a,b,c,d,e,f= num[0], num[1], num[2], num[3], num[4], num[5]\n",
    "            if a==f and b==e and c==d:\n",
    "                result.append(int(num))\n",
    "        else:\n",
    "            a,b,c,d,e= num[0], num[1], num[2], num[3], num[4]\n",
    "            if a==e and b==d:\n",
    "                result.append(int(num))\n",
    "print(format(max(result),','))    #리스트의 최대값을 반환\n",
    "                                 #format(숫자, ',')천단위로 콤마 넣기"
   ]
  }
 ],
 "metadata": {
  "kernelspec": {
   "display_name": "Python 3 (ipykernel)",
   "language": "python",
   "name": "python3"
  },
  "language_info": {
   "codemirror_mode": {
    "name": "ipython",
    "version": 3
   },
   "file_extension": ".py",
   "mimetype": "text/x-python",
   "name": "python",
   "nbconvert_exporter": "python",
   "pygments_lexer": "ipython3",
   "version": "3.9.12"
  }
 },
 "nbformat": 4,
 "nbformat_minor": 5
}
