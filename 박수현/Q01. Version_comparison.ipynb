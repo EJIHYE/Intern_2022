{
 "cells": [
  {
   "cell_type": "markdown",
   "metadata": {},
   "source": [
    "# 1번_Version comparison\n",
    "A씨는 두 개의 버전을 비교하는 프로그램을 작성해야 한다. 버전은 다음처럼 \".\" 으로 구분된 문자열이다.\n",
    "\n",
    "두 개의 버전을 비교하는 프로그램을 작성하시오.\n",
    "- 0.0.2 > 0.0.1\n",
    "- 1.0.10 > 1.0.3\n",
    "- 1.2.0 > 1.1.99\n",
    "- 1.1 > 1.0.1\n",
    "\n",
    "## 과제 1\n",
    "input_1 = \"1.0.2\" // input_2 = \"0.9.1\"\n",
    "\n",
    "출력 : 1.0.2 > 0.9.1\n",
    "\n",
    "## 과제 2\n",
    "input_1 = \"1.0\" // input_2 = \"1.0.4\"\n",
    "\n",
    "출력 : 1.0 < 1.0.4\n",
    "\n",
    "## 과제3\n",
    "input_1 = [\"0.1.0\", \"1.0.4.9\"] // input_2 = [\"0.0.1\", \"1.04.9\"]\n",
    "\n",
    "출력 : 0.1.0 > 0.0.1, 1.0.4.9 < 1.04.9"
   ]
  },
  {
   "cell_type": "code",
   "execution_count": 2,
   "metadata": {},
   "outputs": [
    {
     "name": "stdout",
     "output_type": "stream",
     "text": [
      "1.0.2 > 0.9.1\n"
     ]
    }
   ],
   "source": [
    "# a1, a2 = 비교를 위한 버전 입력\n",
    "a1 = input('버전을 입력하세요 : ')\n",
    "a2 = input('비교가 필요한 버전을 입력하세요 : ')\n",
    "\n",
    "# a1_list, a2_list = '.'을 기준으로 버전을 분해한 값의 리스트 \n",
    "a1_list = a1.split('.')\n",
    "a2_list = a2.split('.')\n",
    "# a = 두 리스트 길이의 최대값\n",
    "a = max(len(a1_list), len(a2_list))\n",
    "\n",
    "## 버전을 비교하는 프로그램\n",
    "for i in range(a):                # 리스트 길이만큼 다음 행위를 반복\n",
    "    if a1_list[i] > a2_list[i]:   # 만약 순서대로 비교할 때 a1_list에 큰 수가 있다면, a1 > a2 출력 후 중단\n",
    "        print(a1, '>', a2)\n",
    "        break\n",
    "    elif a1_list == a2_list:      # 만약 a1_list와 a2_list가 같다면, a1_list = a2_list 출력 후 중단\n",
    "        print(a1, '=', a2)\n",
    "        break\n",
    "    elif a1_list[i] < a2_list[i]: # 만약 순서대로 비교할 때 a2_list에 큰 수가 있다면, a1 < a2 출력 후 중단\n",
    "        print(a1, '<', a2)\n",
    "        break"
   ]
  },
  {
   "cell_type": "code",
   "execution_count": 3,
   "metadata": {},
   "outputs": [
    {
     "name": "stdout",
     "output_type": "stream",
     "text": [
      "1.0 < 1.0.4\n"
     ]
    }
   ],
   "source": [
    "# a1, a2 = 비교를 위한 버전 입력\n",
    "a1 = input('버전을 입력하세요 : ')\n",
    "a2 = input('비교가 필요한 버전을 입력하세요 : ')\n",
    "\n",
    "# a1_list, a2_list = '.'을 기준으로 버전을 분해한 값의 리스트 \n",
    "a1_list = a1.split('.')\n",
    "a2_list = a2.split('.')\n",
    "# a = 두 리스트 길이의 최대값\n",
    "a = max(len(a1_list), len(a2_list))\n",
    "\n",
    "## 버전을 비교하는 프로그램\n",
    "for i in range(a):                # 리스트 길이만큼 다음 행위를 반복\n",
    "    if len(a1_list) < a:          # 만약 a1_list의 길이가 a보다 작다면, 리스트에 '0'을 추가\n",
    "        a1_list += '0'\n",
    "    elif len(a2_list) < a:        # 만약 a2_list의 길이가 a보다 작다면, 리스트에 '0'을 추가\n",
    "        a2_list += '0'\n",
    "\n",
    "    if a1_list[i] > a2_list[i]:   # 만약 순서대로 비교할 때 a1_list에 큰 수가 있다면, a1 > a2 출력 후 중단\n",
    "        print(a1, '>', a2)\n",
    "        break\n",
    "    elif a1_list == a2_list:      # 만약 a1_list와 a2_list가 같다면, a1_list = a2_list 출력 후 중단\n",
    "        print(a1, '=', a2)\n",
    "        break\n",
    "    elif a1_list[i] < a2_list[i]: # 만약 순서대로 비교할 때 a2_list에 큰 수가 있다면, a1 < a2 출력 후 중단\n",
    "        print(a1, '<', a2)\n",
    "        break"
   ]
  },
  {
   "cell_type": "code",
   "execution_count": 4,
   "metadata": {},
   "outputs": [
    {
     "name": "stdout",
     "output_type": "stream",
     "text": [
      "0.1.0 > 0.0.1\n",
      "1.0.4.9 < 1.04.9\n"
     ]
    }
   ],
   "source": [
    "# a1, a2 = 비교를 위한 버전 입력\n",
    "a1 = input('버전을 입력하세요 : ')\n",
    "a2 = input('비교가 필요한 버전을 입력하세요 : ')\n",
    "\n",
    "# a1_list, a2_list = ', '을 기준으로 버전을 분해한 값의 리스트 \n",
    "a1_list = a1.split(', ')\n",
    "a2_list = a2.split(', ')\n",
    "\n",
    "for i in a1_list:                                   # a1_list를 버전별로 분해\n",
    "    for j in a2_list:                               # a2_list를 버전별로 분해\n",
    "        if a1_list.index(i) == a2_list.index(j):    # 만약 i와 j의 위치가 같다면,\n",
    "            a1_1_list = i.split('.')                # a1_1_list, a2_1_list = '.'을 기준으로 분해한 값의 리스트\n",
    "            a2_1_list = j.split('.')\n",
    "            a = max(len(a1_1_list), len(a2_1_list)) # a = 두 리스트 길이의 최대값 (아래는 동일)\n",
    "\n",
    "            ## 버전을 비교하는 프로그램\n",
    "            for x in range(a):\n",
    "                if len(a1_1_list) < a:\n",
    "                    a1_1_list += '0'\n",
    "                elif len(a2_1_list) < a:\n",
    "                    a2_1_list += '0'\n",
    "                \n",
    "                if a1_1_list[x] > a2_1_list[x]:\n",
    "                    print(i, '>', j)\n",
    "                    break\n",
    "                elif a1_list == a2_list:\n",
    "                    print(i, '=', j)\n",
    "                    break\n",
    "                elif a1_list[x] < a2_list[x]:\n",
    "                    print(i, '<', j)\n",
    "                    break"
   ]
  }
 ],
 "metadata": {
  "kernelspec": {
   "display_name": "Python 3.9.12 ('base')",
   "language": "python",
   "name": "python3"
  },
  "language_info": {
   "codemirror_mode": {
    "name": "ipython",
    "version": 3
   },
   "file_extension": ".py",
   "mimetype": "text/x-python",
   "name": "python",
   "nbconvert_exporter": "python",
   "pygments_lexer": "ipython3",
   "version": "3.9.12"
  },
  "orig_nbformat": 4,
  "vscode": {
   "interpreter": {
    "hash": "1a6e773fc7f7b2b8b91c25b211311bf7ed1bb15ad853df008c3aead80ddb88d4"
   }
  }
 },
 "nbformat": 4,
 "nbformat_minor": 2
}
