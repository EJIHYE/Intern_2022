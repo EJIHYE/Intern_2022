{
 "cells": [
  {
   "cell_type": "markdown",
   "id": "e827d4aa",
   "metadata": {},
   "source": [
    "# Q3"
   ]
  },
  {
   "cell_type": "markdown",
   "id": "6574ee53",
   "metadata": {},
   "source": [
    "10~1000까지 각 숫자 분해하여 곱하기의 전체 합 구하기\n",
    "예로, 10~15까지의 각 숫자 분해하여 곱하기의 전체 합은 다음과 같다.\n",
    "10 = 1 * 0 = 0\n",
    "11 = 1 * 1 = 1\n",
    "12 = 1 * 2 = 2\n",
    "13 = 1 * 3 = 3\n",
    "14 = 1 * 4 = 4\n",
    "15 = 1 * 5 = 5\n",
    "그러므로, 이 경우의 답은 0+1+2+3+4+5 = 15"
   ]
  },
  {
   "cell_type": "markdown",
   "id": "6a3c4d89",
   "metadata": {},
   "source": [
    "## 과제 1. 10~15까지의 숫자를 분해하여 곱하기의 전체 합을 구하시오(1). \n",
    "### 출력 : 15"
   ]
  },
  {
   "cell_type": "code",
   "execution_count": 10,
   "id": "00e44769",
   "metadata": {},
   "outputs": [
    {
     "name": "stdout",
     "output_type": "stream",
     "text": [
      "15\n"
     ]
    }
   ],
   "source": [
    "sum=0                         #결과를 담을 변수 지정\n",
    "for num in range(10,16):     #10에서 15까지 반복\n",
    "    ten=1                    #수의 앞자리와 뒷자리를 곱하기 위해 지정\n",
    "    for i in str(num):      #숫자를 문자열로 변환해 한자리씩 소환\n",
    "        ten*=int(i)         #수의 앞자리와 뒷자리를 곱한 결과를 저장\n",
    "    sum+=ten                #분해하여 곱한 값 저장\n",
    "print(sum)                  #총 합계"
   ]
  },
  {
   "cell_type": "markdown",
   "id": "86d750e0",
   "metadata": {},
   "source": [
    "## 과제 2. 10~1000까지의 숫자를 분해하여 곱하기의 전체 합을 구하시오(2).\n",
    "### 출력 : 93150"
   ]
  },
  {
   "cell_type": "code",
   "execution_count": 11,
   "id": "76a7debd",
   "metadata": {},
   "outputs": [
    {
     "name": "stdout",
     "output_type": "stream",
     "text": [
      "93150\n"
     ]
    }
   ],
   "source": [
    "sum=0\n",
    "for n in range(10,1001):  #10부터 1000까지 반복\n",
    "    ten =1                 #수의 앞자리와 뒷자리를 곱하기 위해 지정\n",
    "    for i in str(n):      #숫자를 문자열로 변환해 한자리씩 소환\n",
    "        ten= ten* int(i)  #수의 앞자리와 뒷자리를 곱한 결과를 저장\n",
    "    sum+=ten              #분해하여 곱한 값 저장\n",
    "print(sum)                #총 합계"
   ]
  }
 ],
 "metadata": {
  "kernelspec": {
   "display_name": "Python 3 (ipykernel)",
   "language": "python",
   "name": "python3"
  },
  "language_info": {
   "codemirror_mode": {
    "name": "ipython",
    "version": 3
   },
   "file_extension": ".py",
   "mimetype": "text/x-python",
   "name": "python",
   "nbconvert_exporter": "python",
   "pygments_lexer": "ipython3",
   "version": "3.9.12"
  }
 },
 "nbformat": 4,
 "nbformat_minor": 5
}
