{
 "cells": [
  {
   "cell_type": "markdown",
   "id": "ef462d88",
   "metadata": {},
   "source": [
    "1부터 10까지 자연수를 각각 제곱해 더하면 다음과 같습니다.\n",
    "- 제곱의 합 : 1^2 + 2^2 + ... + 10^2 = 385\n",
    "1부터 10을 먼저 더한 다음에 그 결과를 제곱하면 다음과 같습니다\n",
    "- 합의 제곱 : (1 + 2 + ... + 10)^2 = 55^2 = 3025\n",
    "따라서 1부터 10까지 자연수에 대해\n",
    "\"합의 제곱\"과 \"제곱의 합\" 의 차이는 3025 - 385 = 2640 이 됩니다.\n",
    "그러면 1부터 100까지 자연수에 대해 \"합의 제곱\"과 \"제곱의 합\"의 차이는 얼마입니까? \n",
    "\n",
    "### 과제 1. 1부터 100까지 자연수에 대해 \"합의 제곱\"과 \"제곱의 합\"의 차이를 출력하세요.\n",
    "### 출력 : 25164150"
   ]
  },
  {
   "cell_type": "code",
   "execution_count": 2,
   "id": "60ebae12",
   "metadata": {
    "scrolled": true
   },
   "outputs": [
    {
     "name": "stdout",
     "output_type": "stream",
     "text": [
      "25164150\n"
     ]
    }
   ],
   "source": [
    "squared = 0 #합의 제곱 넣을 변수\n",
    "sum = 0     #제곱의 합 넣을 변수\n",
    "\n",
    "for i in range(1,101):  #1부터 100까지 반복\n",
    "    squared +=i         #모든 숫자를 다 더함, 합 생성\n",
    "    sum += i*i          #제곱한 뒤 더함, 제곱의 합 완성\n",
    "    \n",
    "print(squared**2 - sum) #구한 합을 제곱하여 합의 제곱 완성시킨 뒤 제곱의 합을 뺸다. "
   ]
  }
 ],
 "metadata": {
  "kernelspec": {
   "display_name": "Python 3 (ipykernel)",
   "language": "python",
   "name": "python3"
  },
  "language_info": {
   "codemirror_mode": {
    "name": "ipython",
    "version": 3
   },
   "file_extension": ".py",
   "mimetype": "text/x-python",
   "name": "python",
   "nbconvert_exporter": "python",
   "pygments_lexer": "ipython3",
   "version": "3.9.12"
  }
 },
 "nbformat": 4,
 "nbformat_minor": 5
}
