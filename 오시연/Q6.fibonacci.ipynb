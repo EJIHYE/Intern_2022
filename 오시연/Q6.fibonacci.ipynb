{
 "cells": [
  {
   "cell_type": "markdown",
   "id": "19cb49b1",
   "metadata": {},
   "source": [
    "피보나치 수열의 각 항은 바로 앞의 항 두 개를 더한 것이 됩니다.\n",
    "1과 2로 시작하는 경우 이 수열은 아래와 같습니다.\n",
    "1, 2, 3, 5, 8, 13, 21, 34, 55, 89, ...\n",
    "### 짝수이면서 4백만 이하인 모든 항을 더하면 얼마가 됩니까?\n",
    "----------------------------------------------\n",
    "\"\"\"\n",
    "###  과제 1. 피보나치 수열을 만들면서, 동시에 계산을 수행하세요.\n",
    "### 출력 : 4613732"
   ]
  },
  {
   "cell_type": "code",
   "execution_count": 1,
   "id": "f76de008",
   "metadata": {},
   "outputs": [
    {
     "name": "stdout",
     "output_type": "stream",
     "text": [
      "4613732\n"
     ]
    }
   ],
   "source": [
    "n1, n2 = 0, 1    #피보나치 수열 계산하기 위한 변수 지정\n",
    "n3 = n1 + n2   #바로 앞의 항 두 개를 더한 값,즉 1로 시작\n",
    "fib =[]              #피보나치 수열을 넣을 리스트\n",
    "result = 0           #결과 넣을 변수\n",
    "\n",
    "while True:              #무한 루프                     \n",
    "    n1 = n2           #다음 항으로 갱신됨\n",
    "    n2 = n3           #다음 항으로 갱신됨\n",
    "    n3 = n1 + n2    #바로 앞의 항 두 개를 더한 값\n",
    "    if  n3 > 4000000:   #4백만보다 큰 값이 나오면 반복문 종료 \n",
    "        break\n",
    "    fib.append(n3)      #두 항을 더한 값을 피보나치 수열 리스트에 추가\n",
    "    if n3 % 2 == 0 :   #짝수일 경우, 결과값에도 추가\n",
    "        result += n3\n",
    "        \n",
    "print(result)"
   ]
  }
 ],
 "metadata": {
  "kernelspec": {
   "display_name": "Python 3 (ipykernel)",
   "language": "python",
   "name": "python3"
  },
  "language_info": {
   "codemirror_mode": {
    "name": "ipython",
    "version": 3
   },
   "file_extension": ".py",
   "mimetype": "text/x-python",
   "name": "python",
   "nbconvert_exporter": "python",
   "pygments_lexer": "ipython3",
   "version": "3.9.12"
  }
 },
 "nbformat": 4,
 "nbformat_minor": 5
}
