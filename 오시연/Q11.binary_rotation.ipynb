{
 "cells": [
  {
   "cell_type": "markdown",
   "id": "5420f367",
   "metadata": {},
   "source": [
    "2진법이란, 어떤 자연수를 0과 1로만 나타내는 것이다.\n",
    "예를 들어 73은 64(2^6)+8(2^3)+1(2^0)이기 때문에 1001001으로 표현한다.\n",
    "어떤 숫자를 입력받았을 때 그 숫자를 2진법으로 출력하는 프로그램을 작성하시오."
   ]
  },
  {
   "cell_type": "markdown",
   "id": "618d45f0",
   "metadata": {},
   "source": [
    "## 과제 1. input()함수를 사용하고, input값을 이진법으로 나타내시오.\n",
    "### input = 73\n",
    "### 출력 : 1001001"
   ]
  },
  {
   "cell_type": "code",
   "execution_count": 1,
   "id": "ebe15311",
   "metadata": {},
   "outputs": [
    {
     "name": "stdout",
     "output_type": "stream",
     "text": [
      "정수 입력:73\n",
      "1001001\n"
     ]
    }
   ],
   "source": [
    "num = int(input('정수 입력:'))\n",
    "print(bin(num)[2:])         #bin : 정수를 2진수로 된 문자열로 만들어서 반환하는 함수. \n",
    "                            #슬라이스로 2진수의 접두어 0b를 제외한 3번째부터 출력"
   ]
  },
  {
   "cell_type": "markdown",
   "id": "8f5293e0",
   "metadata": {},
   "source": [
    "## 과제 2. input()함수를 사용하고, input값을 16진법으로 나타내시오.\n",
    "### input = 173\n",
    "### 출력 : AD"
   ]
  },
  {
   "cell_type": "code",
   "execution_count": 2,
   "id": "635861cb",
   "metadata": {},
   "outputs": [
    {
     "name": "stdout",
     "output_type": "stream",
     "text": [
      "자연수 입력:173\n",
      "AD\n"
     ]
    }
   ],
   "source": [
    "n = int(input('자연수 입력:'))\n",
    "print(hex(n)[2:].upper())    #hex : 정수를 16진수로 된 문자열로 만들어서 반환하는 함수. \n",
    "                            #16진수의 접두어 Ox를 제외한 3번째부터 대문자로 바꾸어 출력"
   ]
  }
 ],
 "metadata": {
  "kernelspec": {
   "display_name": "Python 3 (ipykernel)",
   "language": "python",
   "name": "python3"
  },
  "language_info": {
   "codemirror_mode": {
    "name": "ipython",
    "version": 3
   },
   "file_extension": ".py",
   "mimetype": "text/x-python",
   "name": "python",
   "nbconvert_exporter": "python",
   "pygments_lexer": "ipython3",
   "version": "3.9.12"
  }
 },
 "nbformat": 4,
 "nbformat_minor": 5
}
