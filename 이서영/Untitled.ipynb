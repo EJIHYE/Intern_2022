{
 "cells": [
  {
   "cell_type": "markdown",
   "id": "81dd2534",
   "metadata": {},
   "source": [
    "# jupyter notebook\n",
    "\n",
    "주피터 노트북을 웹 브라우저 상에서 개발을 할 수 있는 코드\n",
    "\n",
    "\n",
    "> ㄱ"
   ]
  }
 ],
 "metadata": {
  "kernelspec": {
   "display_name": "Python 3 (ipykernel)",
   "language": "python",
   "name": "python3"
  },
  "language_info": {
   "codemirror_mode": {
    "name": "ipython",
    "version": 3
   },
   "file_extension": ".py",
   "mimetype": "text/x-python",
   "name": "python",
   "nbconvert_exporter": "python",
   "pygments_lexer": "ipython3",
   "version": "3.9.12"
  }
 },
 "nbformat": 4,
 "nbformat_minor": 5
}
