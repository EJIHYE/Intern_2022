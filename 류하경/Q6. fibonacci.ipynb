{
 "cells": [
  {
   "cell_type": "markdown",
   "metadata": {},
   "source": [
    "# 6번 Even Fibonacci numbers"
   ]
  },
  {
   "cell_type": "markdown",
   "metadata": {},
   "source": [
    "피보나치 수열의 각 항은 바로 앞의 항 두 개를 더한 것이 됩니다.  \n",
    "1과 2로 시작하는 경우 이 수열은 아래와 같습니다.  \n",
    "1, 2, 3, 5, 8, 13, 21, 34, 55, 89, ...  \n",
    "짝수이면서 4백만 이하인 모든 항을 더하면 얼마가 됩니까?  "
   ]
  },
  {
   "cell_type": "markdown",
   "metadata": {},
   "source": [
    "---"
   ]
  },
  {
   "cell_type": "code",
   "execution_count": 1,
   "metadata": {},
   "outputs": [],
   "source": [
    "# 과제 1. 피보나치 수열을 만들면서, 동시에 계산을 수행하세요.\n",
    "## 출력 : 4613732"
   ]
  },
  {
   "cell_type": "code",
   "execution_count": 1,
   "metadata": {},
   "outputs": [
    {
     "name": "stdout",
     "output_type": "stream",
     "text": [
      "4613732\n"
     ]
    }
   ],
   "source": [
    "a, b = [0,1]\n",
    "sum = 0\n",
    "while b <= 4000000:\n",
    "    a = a + b\n",
    "    b, a = a, b\n",
    "    if b % 2 == 0: sum += b\n",
    "print(sum)"
   ]
  }
 ],
 "metadata": {
  "kernelspec": {
   "display_name": "Python 3.9.12 ('base')",
   "language": "python",
   "name": "python3"
  },
  "language_info": {
   "codemirror_mode": {
    "name": "ipython",
    "version": 3
   },
   "file_extension": ".py",
   "mimetype": "text/x-python",
   "name": "python",
   "nbconvert_exporter": "python",
   "pygments_lexer": "ipython3",
   "version": "3.9.12"
  },
  "orig_nbformat": 4,
  "vscode": {
   "interpreter": {
    "hash": "a077222d77dfe082b8f1dd562ad70e458ac2ab76993a0b248ab0476e32e9e8dd"
   }
  }
 },
 "nbformat": 4,
 "nbformat_minor": 2
}
