{
 "cells": [
  {
   "cell_type": "markdown",
   "id": "87432b03",
   "metadata": {},
   "source": [
    "# 8번\n",
    "\n",
    "### 문제\n",
    "시저 암호는, 고대 로마의 황제 줄리어스 시저가 만들어 낸 암호이다.  \n",
    "예를 들어 알파벳 A를 입력했을 때, 그 알파벳의 n개 뒤에 오는 알파벳이 출력되는 것이다.  \n",
    "예를 들어 바꾸려는 단어가 'CAT\"고, n을 5로 지정하였을 때 \"HFY\"가 되는 것이다.  \n",
    "어떠한 암호를 만들 문장과 n을 입력했을 때 암호를 만들어 출력하는 프로그램을 작성해라.  \n",
    "\n",
    "### 과제 1.\n",
    "대문자로 구성된 단어 1개를 입력받을 경우를 가정하여 시저 암호를 만드세요.  \n",
    "input() 함수를 사용하세요.  \n",
    "input = \"ICL\"  \n",
    "n = 3  \n",
    "출력 : LFO  "
   ]
  },
  {
   "cell_type": "code",
   "execution_count": 5,
   "id": "3cf402c1",
   "metadata": {},
   "outputs": [
    {
     "name": "stdout",
     "output_type": "stream",
     "text": [
      "INPUT : ICL\n",
      "N : 3\n",
      "LFO\n"
     ]
    }
   ],
   "source": [
    "def enig(inp, n) :\n",
    "    s, res = 'ABCDEFGHIJKLMNOPQRSTUVWXYZ', ''\n",
    "    for M in inp :\n",
    "        if M in s : res += s[(s.index(M)+n)%26]\n",
    "            # s.index(m):문자m이 위치한 자리\n",
    "            # Z에서 A로 돌아오는 경우를 위해 %26\n",
    "    return res\n",
    "\n",
    "INP = str(input(\"INPUT : \"))\n",
    "N = int(input(\"N : \"))\n",
    "\n",
    "print(enig(INP, N))"
   ]
  },
  {
   "cell_type": "markdown",
   "id": "9a67f36e",
   "metadata": {},
   "source": [
    "### 과제 2.\n",
    "대문자와 소문자로 구성된 단어 1개를 입력받을 경우를 가정하여 시저 암호를 만드세요.  \n",
    "input() 함수를 사용하세요.  \n",
    "input = \"Library\"  \n",
    "n = 5  \n",
    "출력 : Qngwfwd"
   ]
  },
  {
   "cell_type": "code",
   "execution_count": 6,
   "id": "58cd176f",
   "metadata": {},
   "outputs": [
    {
     "name": "stdout",
     "output_type": "stream",
     "text": [
      "INPUT : Library\n",
      "N : 5\n",
      "Qngwfwd\n"
     ]
    }
   ],
   "source": [
    "def enig(inp, n) :\n",
    "    s, res = 'aAbBcCdDeEfFgGhHiIjJkKlLmMnNoOpPqQrRsStTuUvVwWxXyYzZ', ''\n",
    "    for M in inp :\n",
    "        if M in s : res += s[(s.index(M)+2*n)%52]\n",
    "            # s.index(m):문자m이 위치한 자리\n",
    "\n",
    "    return res\n",
    "\n",
    "INP = str(input(\"INPUT : \"))\n",
    "N = int(input(\"N : \"))\n",
    "\n",
    "print(enig(INP, N))"
   ]
  },
  {
   "cell_type": "markdown",
   "id": "000db755",
   "metadata": {},
   "source": [
    "### 과제 3.\n",
    "대문자와 소문자를 포함하는 문장을 입력받을 경우를 가정하여 시저 암호를 만드세요.  \n",
    "input() 함수를 사용하세요.    \n",
    "input = \"MMy subject is Library & Information Science.\"   \n",
    "n = 2  \n",
    "출력 : Oa uwdlgev ku Nkdtcta & Kphqtocvkqp Uekgpeg.  "
   ]
  },
  {
   "cell_type": "code",
   "execution_count": 3,
   "id": "51418a40",
   "metadata": {},
   "outputs": [
    {
     "name": "stdout",
     "output_type": "stream",
     "text": [
      "INPUT : My subject is Library & Information Science.\n",
      "N : 2\n",
      "Oa uwdlgev ku Nkdtcta & Kphqtocvkqp Uekgpeg.\n"
     ]
    }
   ],
   "source": [
    "def enig(inp, n) :\n",
    "    s, res = 'aAbBcCdDeEfFgGhHiIjJkKlLmMnNoOpPqQrRsStTuUvVwWxXyYzZ', ''\n",
    "    for M in inp :\n",
    "        if M in s : res += s[(s.index(M)+2*n)%52]\n",
    "            \n",
    "        else : res += M\n",
    "        # 알파벳 외 띄어쓰기나 문장부호\n",
    "    return res\n",
    "\n",
    "INP = str(input(\"INPUT : \"))\n",
    "N = int(input(\"N : \"))\n",
    "\n",
    "print(enig(INP, N))"
   ]
  }
 ],
 "metadata": {
  "kernelspec": {
   "display_name": "Python 3 (ipykernel)",
   "language": "python",
   "name": "python3"
  },
  "language_info": {
   "codemirror_mode": {
    "name": "ipython",
    "version": 3
   },
   "file_extension": ".py",
   "mimetype": "text/x-python",
   "name": "python",
   "nbconvert_exporter": "python",
   "pygments_lexer": "ipython3",
   "version": "3.9.12"
  }
 },
 "nbformat": 4,
 "nbformat_minor": 5
}
