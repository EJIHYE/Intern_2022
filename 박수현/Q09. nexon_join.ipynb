{
 "cells": [
  {
   "cell_type": "markdown",
   "metadata": {},
   "source": [
    "# 9번_Nexon join\n",
    "어떤 자연수 n이 있을 때, d(n)을 n의 각 자릿수 숫자들과 n 자신을 더한 숫자라고 정의하자. n을 d(n)의 제네레이터(generator)라고 한다.\n",
    "- 예를 들어 d(91) = 9 + 1 + 91 = 101인 경우 91은 101의 제네레이터이다.\n",
    "- 어떤 숫자들은 하나 이상의 제네레이터를 가지고 있는데, 101의 제네레이터는 91 뿐 아니라 100도 있다.\n",
    "\n",
    "그런데 반대로, 제네레이터가 없는 숫자들도 있으며, 이런 숫자를 인도의 수학자 Kaprekar가 셀프 넘버(self-number)라 이름 붙였다.\n",
    "- 예를 들어 1,3,5,7,9,20,31 은 셀프 넘버 들이다.\n",
    "\n",
    "1 이상이고 5000 보다 작은 모든 셀프 넘버들의 합을 구하라.\n",
    "\n",
    "## 과제 1. 1부터 30까지의 자연수 중에서, 제너레이터가 있는 수의 합을 구하시오. \n",
    "출력 : 420\n",
    "\n",
    "## 과제 2. 1이상 5000 미만의 셀프 넘버(제너레이터가 하나도 없는 수)의 합을 구하시오.\n",
    "출력 : 1227365"
   ]
  },
  {
   "cell_type": "code",
   "execution_count": 1,
   "metadata": {},
   "outputs": [
    {
     "name": "stdout",
     "output_type": "stream",
     "text": [
      "420\n"
     ]
    }
   ],
   "source": [
    "# d(n)을 정의\n",
    "def d(n):\n",
    "    for i in str(n):        # n을 문자열으로 변환 후 분해\n",
    "        n += int(i)         # n = 각 자릿수 숫자들(각 i) + n 자신\n",
    "    return n                # 결과 반환\n",
    "\n",
    "## 1 ~ 30 중 제너레이터가 있는 수의 합을 구하는 프로그램\n",
    "i0 = []                     # i0 = 제너레이터가 있는 수를 추가할 빈 리스트\n",
    "for i in range(1, 30):      # i의 범위는 임의로 지정\n",
    "    if d(i) <= 30:          # 만약 d(i)의 제네레이터가 30보다 같거나 작다면, 리스트에 추가\n",
    "        i0.append(d(i))\n",
    "\n",
    "# 제너레이터가 있는 수의 합을 출력\n",
    "print(sum(i0))"
   ]
  },
  {
   "cell_type": "code",
   "execution_count": 2,
   "metadata": {},
   "outputs": [
    {
     "name": "stdout",
     "output_type": "stream",
     "text": [
      "1227365\n"
     ]
    }
   ],
   "source": [
    "# d(n)을 정의\n",
    "def d(n):\n",
    "    for i in str(n):        # n을 문자열으로 변환 후 분해\n",
    "        n += int(i)         # n = 각 자릿수 숫자들(각 i) + n 자신\n",
    "    return n                # 결과 반환\n",
    "\n",
    "## 1이상 5000 미만의 셀프 넘버의 합을 구하는 프로그램\n",
    "i0 = []                     # i0 = 제너레이터가 있는 수를 추가할 빈 리스트\n",
    "for i in range(1, 5000):    # i의 범위는 임의로 지정\n",
    "    if d(i) < 5000:         # 만약 d(i)의 제네레이터가 5000보다 작다면, 리스트에 추가\n",
    "        i0.append(d(i))\n",
    "\n",
    "i1 = []                     # i1 = 셀프 넘버를 추가할 빈 리스트\n",
    "for i in range(1, 5000):    # 범위 내에서 다음 행위를 반복\n",
    "    if i not in i0:         # 만약 i가 제너레이터가 있는 수 리스트에 없다면, 셀프 넘버 리스트에 추가\n",
    "        i1.append(i)\n",
    "\n",
    "# 셀프 넘버의 합을 출력\n",
    "print(sum(i1))"
   ]
  }
 ],
 "metadata": {
  "kernelspec": {
   "display_name": "Python 3.9.12 ('base')",
   "language": "python",
   "name": "python3"
  },
  "language_info": {
   "codemirror_mode": {
    "name": "ipython",
    "version": 3
   },
   "file_extension": ".py",
   "mimetype": "text/x-python",
   "name": "python",
   "nbconvert_exporter": "python",
   "pygments_lexer": "ipython3",
   "version": "3.9.12"
  },
  "orig_nbformat": 4,
  "vscode": {
   "interpreter": {
    "hash": "1a6e773fc7f7b2b8b91c25b211311bf7ed1bb15ad853df008c3aead80ddb88d4"
   }
  }
 },
 "nbformat": 4,
 "nbformat_minor": 2
}
